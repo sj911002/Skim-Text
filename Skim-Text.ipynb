{
  "nbformat": 4,
  "nbformat_minor": 0,
  "metadata": {
    "colab": {
      "name": "SkimLit.ipynb",
      "provenance": [],
      "collapsed_sections": []
    },
    "kernelspec": {
      "name": "python3",
      "display_name": "Python 3"
    },
    "language_info": {
      "name": "python"
    },
    "accelerator": "GPU"
  },
  "cells": [
    {
      "cell_type": "markdown",
      "metadata": {
        "id": "v_pyTAhtyGH4"
      },
      "source": [
        "# SkimLit\n",
        "In this project, deep learning models are used to classify sentences which appear in a sequential order. \n",
        "\n",
        "**Dataset:** PubMed 200k RCT which consists of ~200,000 labelled Randomized Controlled Trial (RCT) abstracts.\n",
        "\n",
        "Dataset: https://arxiv.org/abs/1710.06071\n",
        "\n",
        "**Aim of the project:** Given the abstract of a RCT, what role does each sentence serve in the abstract.\n",
        "\n",
        "\n"
      ]
    },
    {
      "cell_type": "markdown",
      "metadata": {
        "id": "HKb2BTqczclB"
      },
      "source": [
        "## Contents:\n",
        "\n",
        "1. Loading the data\n",
        "2. Data preprocessing\n",
        "3. Modelling experiments <br>\n",
        "   3.1. Naive bayes with TF-IDF encoder <br>\n",
        "   3.2. Conv1D with custom token embeddings <br>\n",
        "   3.3. Conv1D with character embeddings <br>\n",
        "   3.4. Feature extraction with pretrained token embeddings <br>\n",
        "   3.5. Hybrid embedding layer <br>\n",
        "   3.6. Transfer learning (tribrid model)\n",
        "4. Compare all the model results\n",
        "5. Saving the model\n",
        "6. Visualising the results (on test data sample)\n",
        "7. Predicting on unstructured PubMed RCT abstracts"
      ]
    },
    {
      "cell_type": "markdown",
      "metadata": {
        "id": "0POP8btRLyAY"
      },
      "source": [
        "## Import the nescessary libraries"
      ]
    },
    {
      "cell_type": "code",
      "metadata": {
        "id": "LD88pTeKLw0L"
      },
      "source": [
        "import numpy as np\n",
        "import pandas as pd\n",
        "import matplotlib.pyplot as plt\n",
        "import random\n",
        "import string\n",
        "import tensorflow as tf\n",
        "from tensorflow.keras import layers\n",
        "\n",
        "from sklearn.preprocessing import OneHotEncoder\n",
        "from sklearn.preprocessing import LabelEncoder\n",
        "from sklearn.metrics import accuracy_score, precision_recall_fscore_support\n",
        "\n",
        "import warnings \n",
        "warnings.filterwarnings('ignore')"
      ],
      "execution_count": 1,
      "outputs": []
    },
    {
      "cell_type": "markdown",
      "metadata": {
        "id": "x6DStEe_7pRl"
      },
      "source": [
        "## Fetching the data "
      ]
    },
    {
      "cell_type": "code",
      "metadata": {
        "colab": {
          "base_uri": "https://localhost:8080/"
        },
        "id": "cxBn4ahJKlfo",
        "outputId": "50641fc2-a60e-4fdb-d18d-ef5b6e592fcf"
      },
      "source": [
        "!git clone https://github.com/Franck-Dernoncourt/pubmed-rct\n",
        "!ls pubmed-rct"
      ],
      "execution_count": 2,
      "outputs": [
        {
          "output_type": "stream",
          "name": "stdout",
          "text": [
            "Cloning into 'pubmed-rct'...\n",
            "remote: Enumerating objects: 33, done.\u001b[K\n",
            "remote: Counting objects: 100% (3/3), done.\u001b[K\n",
            "remote: Compressing objects: 100% (3/3), done.\u001b[K\n",
            "remote: Total 33 (delta 0), reused 0 (delta 0), pack-reused 30\u001b[K\n",
            "Unpacking objects: 100% (33/33), done.\n",
            "PubMed_200k_RCT\n",
            "PubMed_200k_RCT_numbers_replaced_with_at_sign\n",
            "PubMed_20k_RCT\n",
            "PubMed_20k_RCT_numbers_replaced_with_at_sign\n",
            "README.md\n"
          ]
        }
      ]
    },
    {
      "cell_type": "code",
      "metadata": {
        "colab": {
          "base_uri": "https://localhost:8080/"
        },
        "id": "mWaK6M7YKn9C",
        "outputId": "e3344e9a-2066-4eed-93be-c9f8891d25ef"
      },
      "source": [
        "# Checking what files are in the PubMed_20K dataset\n",
        "!ls pubmed-rct/PubMed_20k_RCT_numbers_replaced_with_at_sign/"
      ],
      "execution_count": 3,
      "outputs": [
        {
          "output_type": "stream",
          "name": "stdout",
          "text": [
            "dev.txt  test.txt  train.txt\n"
          ]
        }
      ]
    },
    {
      "cell_type": "code",
      "metadata": {
        "id": "auvU1r6XKx6Q"
      },
      "source": [
        "# Start our experiments using the 20K dataset with numbers replaced by '@' sign\n",
        "data_dir = \"/content/pubmed-rct/PubMed_20k_RCT_numbers_replaced_with_at_sign/\""
      ],
      "execution_count": 4,
      "outputs": []
    },
    {
      "cell_type": "code",
      "metadata": {
        "colab": {
          "base_uri": "https://localhost:8080/"
        },
        "id": "63woiTJeK1Zs",
        "outputId": "0dcee861-6803-4788-e5e6-088d2ac64a99"
      },
      "source": [
        "# Check all of the filenames in the target directory\n",
        "import os\n",
        "\n",
        "filenames = [data_dir + filename for filename in os.listdir(data_dir)]\n",
        "filenames"
      ],
      "execution_count": 5,
      "outputs": [
        {
          "output_type": "execute_result",
          "data": {
            "text/plain": [
              "['/content/pubmed-rct/PubMed_20k_RCT_numbers_replaced_with_at_sign/train.txt',\n",
              " '/content/pubmed-rct/PubMed_20k_RCT_numbers_replaced_with_at_sign/dev.txt',\n",
              " '/content/pubmed-rct/PubMed_20k_RCT_numbers_replaced_with_at_sign/test.txt']"
            ]
          },
          "metadata": {},
          "execution_count": 5
        }
      ]
    },
    {
      "cell_type": "markdown",
      "metadata": {
        "id": "UCfq-nMHK9jC"
      },
      "source": [
        "## Data Preprocessing"
      ]
    },
    {
      "cell_type": "code",
      "metadata": {
        "id": "vEDicgKfLCpc"
      },
      "source": [
        "# Create a function to read the lines of a document\n",
        "def get_lines(filename):\n",
        "  \"\"\"\n",
        "  Reads filename (a text filename) and returns the lines of text as a list.\n",
        "  \n",
        "  Args:\n",
        "    filename: a string containing the target filepath\n",
        "  \n",
        "  Returns:\n",
        "    A list of strings with one string per line from the target filename.\n",
        "  \"\"\"\n",
        "  with open(filename, \"r\") as f:\n",
        "    return f.readlines()"
      ],
      "execution_count": 6,
      "outputs": []
    },
    {
      "cell_type": "code",
      "metadata": {
        "colab": {
          "base_uri": "https://localhost:8080/"
        },
        "id": "v6KUAVk_LJC3",
        "outputId": "1f29914a-9b4c-4ece-f655-fac267abb243"
      },
      "source": [
        "# Reading in the training lines\n",
        "train_lines = get_lines(filenames[0])\n",
        "train_lines[:20]"
      ],
      "execution_count": 15,
      "outputs": [
        {
          "output_type": "execute_result",
          "data": {
            "text/plain": [
              "['###24293578\\n',\n",
              " 'OBJECTIVE\\tTo investigate the efficacy of @ weeks of daily low-dose oral prednisolone in improving pain , mobility , and systemic low-grade inflammation in the short term and whether the effect would be sustained at @ weeks in older adults with moderate to severe knee osteoarthritis ( OA ) .\\n',\n",
              " 'METHODS\\tA total of @ patients with primary knee OA were randomized @:@ ; @ received @ mg/day of prednisolone and @ received placebo for @ weeks .\\n',\n",
              " 'METHODS\\tOutcome measures included pain reduction and improvement in function scores and systemic inflammation markers .\\n',\n",
              " 'METHODS\\tPain was assessed using the visual analog pain scale ( @-@ mm ) .\\n',\n",
              " 'METHODS\\tSecondary outcome measures included the Western Ontario and McMaster Universities Osteoarthritis Index scores , patient global assessment ( PGA ) of the severity of knee OA , and @-min walk distance ( @MWD ) .\\n',\n",
              " 'METHODS\\tSerum levels of interleukin @ ( IL-@ ) , IL-@ , tumor necrosis factor ( TNF ) - , and high-sensitivity C-reactive protein ( hsCRP ) were measured .\\n',\n",
              " 'RESULTS\\tThere was a clinically relevant reduction in the intervention group compared to the placebo group for knee pain , physical function , PGA , and @MWD at @ weeks .\\n',\n",
              " 'RESULTS\\tThe mean difference between treatment arms ( @ % CI ) was @ ( @-@ @ ) , p < @ ; @ ( @-@ @ ) , p < @ ; @ ( @-@ @ ) , p < @ ; and @ ( @-@ @ ) , p < @ , respectively .\\n',\n",
              " 'RESULTS\\tFurther , there was a clinically relevant reduction in the serum levels of IL-@ , IL-@ , TNF - , and hsCRP at @ weeks in the intervention group when compared to the placebo group .\\n',\n",
              " 'RESULTS\\tThese differences remained significant at @ weeks .\\n',\n",
              " 'RESULTS\\tThe Outcome Measures in Rheumatology Clinical Trials-Osteoarthritis Research Society International responder rate was @ % in the intervention group and @ % in the placebo group ( p < @ ) .\\n',\n",
              " 'CONCLUSIONS\\tLow-dose oral prednisolone had both a short-term and a longer sustained effect resulting in less knee pain , better physical function , and attenuation of systemic inflammation in older patients with knee OA ( ClinicalTrials.gov identifier NCT@ ) .\\n',\n",
              " '\\n',\n",
              " '###24854809\\n',\n",
              " 'BACKGROUND\\tEmotional eating is associated with overeating and the development of obesity .\\n',\n",
              " 'BACKGROUND\\tYet , empirical evidence for individual ( trait ) differences in emotional eating and cognitive mechanisms that contribute to eating during sad mood remain equivocal .\\n',\n",
              " 'OBJECTIVE\\tThe aim of this study was to test if attention bias for food moderates the effect of self-reported emotional eating during sad mood ( vs neutral mood ) on actual food intake .\\n',\n",
              " 'OBJECTIVE\\tIt was expected that emotional eating is predictive of elevated attention for food and higher food intake after an experimentally induced sad mood and that attentional maintenance on food predicts food intake during a sad versus a neutral mood .\\n',\n",
              " 'METHODS\\tParticipants ( N = @ ) were randomly assigned to one of the two experimental mood induction conditions ( sad/neutral ) .\\n']"
            ]
          },
          "metadata": {},
          "execution_count": 15
        }
      ]
    },
    {
      "cell_type": "code",
      "metadata": {
        "colab": {
          "base_uri": "https://localhost:8080/"
        },
        "id": "wR4ts34YLPZT",
        "outputId": "bf320db5-c5d4-42b7-c777-fd480ae6df4f"
      },
      "source": [
        "len(train_lines)"
      ],
      "execution_count": 16,
      "outputs": [
        {
          "output_type": "execute_result",
          "data": {
            "text/plain": [
              "210040"
            ]
          },
          "metadata": {},
          "execution_count": 16
        }
      ]
    },
    {
      "cell_type": "code",
      "metadata": {
        "id": "Jzpr9RACLWJu"
      },
      "source": [
        "def preprocess_text_with_line_numbers(filename):\n",
        "  \"\"\"\n",
        "  Returns a list of dictionaries of abstract line data.\n",
        "\n",
        "  Takes in filename, reads it contents and sorts through each line,\n",
        "  extracting things like the target label, the text of the sentence, \n",
        "  how many sentences are in the current abstract and what sentence number \n",
        "  the target line is.\n",
        "  \"\"\"\n",
        "  input_lines = get_lines(filename) # get all lines from filename\n",
        "  abstract_lines = \"\" # create an empty abstract\n",
        "  abstract_samples = [] # create an empty list of abstracts\n",
        "\n",
        "  # Loop through each line in the target file\n",
        "  for line in input_lines:\n",
        "    if line.startswith(\"###\"): # check to see if the line is an ID line\n",
        "      abstract_id = line\n",
        "      abstract_lines = \"\" # reset the abstract string if the line is an ID line\n",
        "    \n",
        "    elif line.isspace(): # check to see if the line is a new line\n",
        "      abstract_line_split = abstract_lines.splitlines() # splits the abstract into seperate lines\n",
        "      # print(abstract_line_split)\n",
        "\n",
        "    # Iterate through each line in a single abstract and count them at the\n",
        "      for abstract_line_number, abstract_line in enumerate(abstract_line_split):\n",
        "        line_data = {}\n",
        "        target_text_split = abstract_line.split(\"\\t\") # split target label from text\n",
        "        line_data[\"target\"] = target_text_split[0] # get target label\n",
        "        line_data[\"text\"] = target_text_split[1].lower() # get target text and lower it \n",
        "        line_data[\"line_number\"] = abstract_line_number# what number does the line appear in the abstract\n",
        "        line_data[\"total_lines\"] = len(abstract_line_split) - 1 # how many total lines are there in the target abstract? (start from 0)\n",
        "        abstract_samples.append(line_data)\n",
        "    \n",
        "    else: # if the above conditions aren't fulfilled, the line contains  labelled sentence\n",
        "      abstract_lines += line\n",
        "    \n",
        "  return abstract_samples"
      ],
      "execution_count": 17,
      "outputs": []
    },
    {
      "cell_type": "code",
      "metadata": {
        "colab": {
          "base_uri": "https://localhost:8080/"
        },
        "id": "v-cigax0LbWb",
        "outputId": "3394c46b-0987-4af5-b2da-4840f3ede320"
      },
      "source": [
        "# Get data from file and preprocess it \n",
        "%%time\n",
        "train_samples = preprocess_text_with_line_numbers(filenames[0])\n",
        "test_samples = preprocess_text_with_line_numbers(filenames[2])\n",
        "validation_samples = preprocess_text_with_line_numbers(filenames[1])\n",
        "print(f\"Training sample length: {len(train_samples)}\")\n",
        "print(f\"Validation sample length: {len(validation_samples)}\")\n",
        "print(f\"Testing sample length: {len(test_samples)}\")"
      ],
      "execution_count": 19,
      "outputs": [
        {
          "output_type": "stream",
          "name": "stdout",
          "text": [
            "Training sample length: 180040\n",
            "Validation sample length: 30212\n",
            "Testing sample length: 30135\n",
            "CPU times: user 540 ms, sys: 99.1 ms, total: 639 ms\n",
            "Wall time: 637 ms\n"
          ]
        }
      ]
    },
    {
      "cell_type": "code",
      "metadata": {
        "colab": {
          "base_uri": "https://localhost:8080/"
        },
        "id": "-pWiBsKTLf9K",
        "outputId": "00cc5406-00af-46d2-8515-bb13043d9e7f"
      },
      "source": [
        "# Check the first abstract of our training data\n",
        "train_samples[:12]"
      ],
      "execution_count": 21,
      "outputs": [
        {
          "output_type": "execute_result",
          "data": {
            "text/plain": [
              "[{'line_number': 0,\n",
              "  'target': 'OBJECTIVE',\n",
              "  'text': 'to investigate the efficacy of @ weeks of daily low-dose oral prednisolone in improving pain , mobility , and systemic low-grade inflammation in the short term and whether the effect would be sustained at @ weeks in older adults with moderate to severe knee osteoarthritis ( oa ) .',\n",
              "  'total_lines': 11},\n",
              " {'line_number': 1,\n",
              "  'target': 'METHODS',\n",
              "  'text': 'a total of @ patients with primary knee oa were randomized @:@ ; @ received @ mg/day of prednisolone and @ received placebo for @ weeks .',\n",
              "  'total_lines': 11},\n",
              " {'line_number': 2,\n",
              "  'target': 'METHODS',\n",
              "  'text': 'outcome measures included pain reduction and improvement in function scores and systemic inflammation markers .',\n",
              "  'total_lines': 11},\n",
              " {'line_number': 3,\n",
              "  'target': 'METHODS',\n",
              "  'text': 'pain was assessed using the visual analog pain scale ( @-@ mm ) .',\n",
              "  'total_lines': 11},\n",
              " {'line_number': 4,\n",
              "  'target': 'METHODS',\n",
              "  'text': 'secondary outcome measures included the western ontario and mcmaster universities osteoarthritis index scores , patient global assessment ( pga ) of the severity of knee oa , and @-min walk distance ( @mwd ) .',\n",
              "  'total_lines': 11},\n",
              " {'line_number': 5,\n",
              "  'target': 'METHODS',\n",
              "  'text': 'serum levels of interleukin @ ( il-@ ) , il-@ , tumor necrosis factor ( tnf ) - , and high-sensitivity c-reactive protein ( hscrp ) were measured .',\n",
              "  'total_lines': 11},\n",
              " {'line_number': 6,\n",
              "  'target': 'RESULTS',\n",
              "  'text': 'there was a clinically relevant reduction in the intervention group compared to the placebo group for knee pain , physical function , pga , and @mwd at @ weeks .',\n",
              "  'total_lines': 11},\n",
              " {'line_number': 7,\n",
              "  'target': 'RESULTS',\n",
              "  'text': 'the mean difference between treatment arms ( @ % ci ) was @ ( @-@ @ ) , p < @ ; @ ( @-@ @ ) , p < @ ; @ ( @-@ @ ) , p < @ ; and @ ( @-@ @ ) , p < @ , respectively .',\n",
              "  'total_lines': 11},\n",
              " {'line_number': 8,\n",
              "  'target': 'RESULTS',\n",
              "  'text': 'further , there was a clinically relevant reduction in the serum levels of il-@ , il-@ , tnf - , and hscrp at @ weeks in the intervention group when compared to the placebo group .',\n",
              "  'total_lines': 11},\n",
              " {'line_number': 9,\n",
              "  'target': 'RESULTS',\n",
              "  'text': 'these differences remained significant at @ weeks .',\n",
              "  'total_lines': 11},\n",
              " {'line_number': 10,\n",
              "  'target': 'RESULTS',\n",
              "  'text': 'the outcome measures in rheumatology clinical trials-osteoarthritis research society international responder rate was @ % in the intervention group and @ % in the placebo group ( p < @ ) .',\n",
              "  'total_lines': 11},\n",
              " {'line_number': 11,\n",
              "  'target': 'CONCLUSIONS',\n",
              "  'text': 'low-dose oral prednisolone had both a short-term and a longer sustained effect resulting in less knee pain , better physical function , and attenuation of systemic inflammation in older patients with knee oa ( clinicaltrials.gov identifier nct@ ) .',\n",
              "  'total_lines': 11}]"
            ]
          },
          "metadata": {},
          "execution_count": 21
        }
      ]
    },
    {
      "cell_type": "code",
      "metadata": {
        "colab": {
          "base_uri": "https://localhost:8080/",
          "height": 425
        },
        "id": "WPpwL1fnLnxi",
        "outputId": "9078c6dd-6423-4327-b169-d29380d6769b"
      },
      "source": [
        "# Converting into a pandas dataframe\n",
        "train_df = pd.DataFrame(train_samples)\n",
        "val_df = pd.DataFrame(validation_samples)\n",
        "test_df = pd.DataFrame(test_samples)\n",
        "train_df.head(12)"
      ],
      "execution_count": 22,
      "outputs": [
        {
          "output_type": "execute_result",
          "data": {
            "text/html": [
              "<div>\n",
              "<style scoped>\n",
              "    .dataframe tbody tr th:only-of-type {\n",
              "        vertical-align: middle;\n",
              "    }\n",
              "\n",
              "    .dataframe tbody tr th {\n",
              "        vertical-align: top;\n",
              "    }\n",
              "\n",
              "    .dataframe thead th {\n",
              "        text-align: right;\n",
              "    }\n",
              "</style>\n",
              "<table border=\"1\" class=\"dataframe\">\n",
              "  <thead>\n",
              "    <tr style=\"text-align: right;\">\n",
              "      <th></th>\n",
              "      <th>target</th>\n",
              "      <th>text</th>\n",
              "      <th>line_number</th>\n",
              "      <th>total_lines</th>\n",
              "    </tr>\n",
              "  </thead>\n",
              "  <tbody>\n",
              "    <tr>\n",
              "      <th>0</th>\n",
              "      <td>OBJECTIVE</td>\n",
              "      <td>to investigate the efficacy of @ weeks of dail...</td>\n",
              "      <td>0</td>\n",
              "      <td>11</td>\n",
              "    </tr>\n",
              "    <tr>\n",
              "      <th>1</th>\n",
              "      <td>METHODS</td>\n",
              "      <td>a total of @ patients with primary knee oa wer...</td>\n",
              "      <td>1</td>\n",
              "      <td>11</td>\n",
              "    </tr>\n",
              "    <tr>\n",
              "      <th>2</th>\n",
              "      <td>METHODS</td>\n",
              "      <td>outcome measures included pain reduction and i...</td>\n",
              "      <td>2</td>\n",
              "      <td>11</td>\n",
              "    </tr>\n",
              "    <tr>\n",
              "      <th>3</th>\n",
              "      <td>METHODS</td>\n",
              "      <td>pain was assessed using the visual analog pain...</td>\n",
              "      <td>3</td>\n",
              "      <td>11</td>\n",
              "    </tr>\n",
              "    <tr>\n",
              "      <th>4</th>\n",
              "      <td>METHODS</td>\n",
              "      <td>secondary outcome measures included the wester...</td>\n",
              "      <td>4</td>\n",
              "      <td>11</td>\n",
              "    </tr>\n",
              "    <tr>\n",
              "      <th>5</th>\n",
              "      <td>METHODS</td>\n",
              "      <td>serum levels of interleukin @ ( il-@ ) , il-@ ...</td>\n",
              "      <td>5</td>\n",
              "      <td>11</td>\n",
              "    </tr>\n",
              "    <tr>\n",
              "      <th>6</th>\n",
              "      <td>RESULTS</td>\n",
              "      <td>there was a clinically relevant reduction in t...</td>\n",
              "      <td>6</td>\n",
              "      <td>11</td>\n",
              "    </tr>\n",
              "    <tr>\n",
              "      <th>7</th>\n",
              "      <td>RESULTS</td>\n",
              "      <td>the mean difference between treatment arms ( @...</td>\n",
              "      <td>7</td>\n",
              "      <td>11</td>\n",
              "    </tr>\n",
              "    <tr>\n",
              "      <th>8</th>\n",
              "      <td>RESULTS</td>\n",
              "      <td>further , there was a clinically relevant redu...</td>\n",
              "      <td>8</td>\n",
              "      <td>11</td>\n",
              "    </tr>\n",
              "    <tr>\n",
              "      <th>9</th>\n",
              "      <td>RESULTS</td>\n",
              "      <td>these differences remained significant at @ we...</td>\n",
              "      <td>9</td>\n",
              "      <td>11</td>\n",
              "    </tr>\n",
              "    <tr>\n",
              "      <th>10</th>\n",
              "      <td>RESULTS</td>\n",
              "      <td>the outcome measures in rheumatology clinical ...</td>\n",
              "      <td>10</td>\n",
              "      <td>11</td>\n",
              "    </tr>\n",
              "    <tr>\n",
              "      <th>11</th>\n",
              "      <td>CONCLUSIONS</td>\n",
              "      <td>low-dose oral prednisolone had both a short-te...</td>\n",
              "      <td>11</td>\n",
              "      <td>11</td>\n",
              "    </tr>\n",
              "  </tbody>\n",
              "</table>\n",
              "</div>"
            ],
            "text/plain": [
              "         target  ... total_lines\n",
              "0     OBJECTIVE  ...          11\n",
              "1       METHODS  ...          11\n",
              "2       METHODS  ...          11\n",
              "3       METHODS  ...          11\n",
              "4       METHODS  ...          11\n",
              "5       METHODS  ...          11\n",
              "6       RESULTS  ...          11\n",
              "7       RESULTS  ...          11\n",
              "8       RESULTS  ...          11\n",
              "9       RESULTS  ...          11\n",
              "10      RESULTS  ...          11\n",
              "11  CONCLUSIONS  ...          11\n",
              "\n",
              "[12 rows x 4 columns]"
            ]
          },
          "metadata": {},
          "execution_count": 22
        }
      ]
    },
    {
      "cell_type": "markdown",
      "metadata": {
        "id": "SflGhmQVMVLJ"
      },
      "source": [
        "### EDA"
      ]
    },
    {
      "cell_type": "code",
      "metadata": {
        "colab": {
          "base_uri": "https://localhost:8080/"
        },
        "id": "4a29SVY1MQJd",
        "outputId": "04bce754-cfd8-4024-debc-53325965bc4c"
      },
      "source": [
        "# Distribution of labels in training data\n",
        "train_df.target.value_counts()"
      ],
      "execution_count": 23,
      "outputs": [
        {
          "output_type": "execute_result",
          "data": {
            "text/plain": [
              "METHODS        59353\n",
              "RESULTS        57953\n",
              "CONCLUSIONS    27168\n",
              "BACKGROUND     21727\n",
              "OBJECTIVE      13839\n",
              "Name: target, dtype: int64"
            ]
          },
          "metadata": {},
          "execution_count": 23
        }
      ]
    },
    {
      "cell_type": "code",
      "metadata": {
        "colab": {
          "base_uri": "https://localhost:8080/",
          "height": 267
        },
        "id": "ZgZGmO_pMXiW",
        "outputId": "46639e53-a32a-4f1c-a84a-83905dc85b6a"
      },
      "source": [
        "# Let's check the length of different lines\n",
        "plt.hist(train_df[\"total_lines\"]);\n",
        "plt.ylabel(\"Frequency\");"
      ],
      "execution_count": 24,
      "outputs": [
        {
          "output_type": "display_data",
          "data": {
            "image/png": "[encoded data removed]",
            "text/plain": [
              "<Figure size 432x288 with 1 Axes>"
            ]
          },
          "metadata": {
            "needs_background": "light"
          }
        }
      ]
    },
    {
      "cell_type": "markdown",
      "metadata": {
        "id": "lYCzDz6nMaVB"
      },
      "source": [
        "### Get a list of sentences"
      ]
    },
    {
      "cell_type": "code",
      "metadata": {
        "colab": {
          "base_uri": "https://localhost:8080/"
        },
        "id": "UZEa1wy7MjRd",
        "outputId": "3aa381eb-03f6-40f8-ffbc-34ddbb711179"
      },
      "source": [
        "# Convert abstract text lines into lists\n",
        "train_sentences = train_df[\"text\"].to_list()\n",
        "validation_sentences = val_df[\"text\"].to_list()\n",
        "test_sentences = test_df[\"text\"].to_list()\n",
        "print(len(train_sentences), len(validation_sentences), len(test_sentences))"
      ],
      "execution_count": 25,
      "outputs": [
        {
          "output_type": "stream",
          "name": "stdout",
          "text": [
            "180040 30212 30135\n"
          ]
        }
      ]
    },
    {
      "cell_type": "code",
      "metadata": {
        "colab": {
          "base_uri": "https://localhost:8080/"
        },
        "id": "C_QS2Y6HMpQb",
        "outputId": "80f7948d-8191-4cd3-ac15-6cc56ee547ed"
      },
      "source": [
        "# View the first 10 lines of training sentences\n",
        "train_sentences[:10]"
      ],
      "execution_count": 26,
      "outputs": [
        {
          "output_type": "execute_result",
          "data": {
            "text/plain": [
              "['to investigate the efficacy of @ weeks of daily low-dose oral prednisolone in improving pain , mobility , and systemic low-grade inflammation in the short term and whether the effect would be sustained at @ weeks in older adults with moderate to severe knee osteoarthritis ( oa ) .',\n",
              " 'a total of @ patients with primary knee oa were randomized @:@ ; @ received @ mg/day of prednisolone and @ received placebo for @ weeks .',\n",
              " 'outcome measures included pain reduction and improvement in function scores and systemic inflammation markers .',\n",
              " 'pain was assessed using the visual analog pain scale ( @-@ mm ) .',\n",
              " 'secondary outcome measures included the western ontario and mcmaster universities osteoarthritis index scores , patient global assessment ( pga ) of the severity of knee oa , and @-min walk distance ( @mwd ) .',\n",
              " 'serum levels of interleukin @ ( il-@ ) , il-@ , tumor necrosis factor ( tnf ) - , and high-sensitivity c-reactive protein ( hscrp ) were measured .',\n",
              " 'there was a clinically relevant reduction in the intervention group compared to the placebo group for knee pain , physical function , pga , and @mwd at @ weeks .',\n",
              " 'the mean difference between treatment arms ( @ % ci ) was @ ( @-@ @ ) , p < @ ; @ ( @-@ @ ) , p < @ ; @ ( @-@ @ ) , p < @ ; and @ ( @-@ @ ) , p < @ , respectively .',\n",
              " 'further , there was a clinically relevant reduction in the serum levels of il-@ , il-@ , tnf - , and hscrp at @ weeks in the intervention group when compared to the placebo group .',\n",
              " 'these differences remained significant at @ weeks .']"
            ]
          },
          "metadata": {},
          "execution_count": 26
        }
      ]
    },
    {
      "cell_type": "markdown",
      "metadata": {
        "id": "ck9L9nl7M3Ey"
      },
      "source": [
        "### Making numeric labels (one hot encode & label encode)"
      ]
    },
    {
      "cell_type": "code",
      "metadata": {
        "colab": {
          "base_uri": "https://localhost:8080/"
        },
        "id": "4Mdy0HB_MsEo",
        "outputId": "2e07c0ff-5d43-46cb-a510-659b23f42678"
      },
      "source": [
        "# One hot encode labels\n",
        "one_hot_encoder = OneHotEncoder(sparse=False) # we want a non-sparse matrix\n",
        "train_labels_one_hot = one_hot_encoder.fit_transform(train_df[\"target\"].to_numpy().reshape(-1, 1))\n",
        "validation_labels_one_hot = one_hot_encoder.fit_transform(val_df[\"target\"].to_numpy().reshape(-1, 1))\n",
        "test_labels_one_hot = one_hot_encoder.fit_transform(test_df[\"target\"].to_numpy().reshape(-1, 1))\n",
        "\n",
        "# Check what one hot encoded labels look like\n",
        "train_labels_one_hot"
      ],
      "execution_count": 27,
      "outputs": [
        {
          "output_type": "execute_result",
          "data": {
            "text/plain": [
              "array([[0., 0., 0., 1., 0.],\n",
              "       [0., 0., 1., 0., 0.],\n",
              "       [0., 0., 1., 0., 0.],\n",
              "       ...,\n",
              "       [0., 0., 0., 0., 1.],\n",
              "       [0., 1., 0., 0., 0.],\n",
              "       [0., 1., 0., 0., 0.]])"
            ]
          },
          "metadata": {},
          "execution_count": 27
        }
      ]
    },
    {
      "cell_type": "code",
      "metadata": {
        "colab": {
          "base_uri": "https://localhost:8080/"
        },
        "id": "qwbVP_L_M_H_",
        "outputId": "47967d59-6e2f-4fc6-b162-826229e46ff7"
      },
      "source": [
        "# Extract labels (\"target\" columns) and encode them into integers\n",
        "label_encoder = LabelEncoder()\n",
        "train_labels_encoded = label_encoder.fit_transform(train_df[\"target\"].to_numpy())\n",
        "val_labels_encoded = label_encoder.fit_transform(val_df[\"target\"].to_numpy())\n",
        "test_labels_encoded = label_encoder.fit_transform(test_df[\"target\"].to_numpy())\n",
        "\n",
        "# Check what the training labels look like\n",
        "train_labels_encoded"
      ],
      "execution_count": 28,
      "outputs": [
        {
          "output_type": "execute_result",
          "data": {
            "text/plain": [
              "array([3, 2, 2, ..., 4, 1, 1])"
            ]
          },
          "metadata": {},
          "execution_count": 28
        }
      ]
    },
    {
      "cell_type": "code",
      "metadata": {
        "colab": {
          "base_uri": "https://localhost:8080/"
        },
        "id": "88HHj4m9NHqI",
        "outputId": "0593d4ec-f13f-43bc-f79f-0f62c5793c69"
      },
      "source": [
        "# Get class names and number of classes from LabelEncoder instance(map it back to text)\n",
        "num_classes = len(label_encoder.classes_)\n",
        "class_names = label_encoder.classes_\n",
        "num_classes, class_names"
      ],
      "execution_count": 29,
      "outputs": [
        {
          "output_type": "execute_result",
          "data": {
            "text/plain": [
              "(5, array(['BACKGROUND', 'CONCLUSIONS', 'METHODS', 'OBJECTIVE', 'RESULTS'],\n",
              "       dtype=object))"
            ]
          },
          "metadata": {},
          "execution_count": 29
        }
      ]
    },
    {
      "cell_type": "markdown",
      "metadata": {
        "id": "w5pVULWzNTHl"
      },
      "source": [
        "## Modelling Experiments"
      ]
    },
    {
      "cell_type": "markdown",
      "metadata": {
        "id": "I4ZcNxcjNcWF"
      },
      "source": [
        "* Model 0 : Naive Bayes with TF-IDF Encoder\n",
        "* Model 1 : Conv1D with custom token embeddings \n",
        "* Model 2 : Conv1D with character embeddings \n",
        "* Model 3 : Feature extraction with pretrained token embeddings \n",
        "* Model 4 : Hybrid embedding layer \n",
        "* Model 5: Transfer learning (tribrid model)\n"
      ]
    },
    {
      "cell_type": "markdown",
      "metadata": {
        "id": "-tKw357g7QAf"
      },
      "source": [
        "## Model 1: Naive Bayes with TF-IDF Encoder"
      ]
    },
    {
      "cell_type": "code",
      "metadata": {
        "colab": {
          "base_uri": "https://localhost:8080/"
        },
        "id": "IMIhvHQU3srr",
        "outputId": "689a126a-3137-4348-8797-62f64d97032c"
      },
      "source": [
        "from sklearn.feature_extraction.text import TfidfVectorizer\n",
        "from sklearn.naive_bayes import MultinomialNB\n",
        "from sklearn.pipeline import Pipeline\n",
        "\n",
        "# Create a pipeline\n",
        "model_0 = Pipeline([\n",
        "    (\"tf-idf\", TfidfVectorizer()),\n",
        "    (\"clf\", MultinomialNB()),\n",
        "])\n",
        "\n",
        "# Fit the pipeline to the training data\n",
        "model_0.fit(X=train_sentences, \n",
        "            y=train_labels_encoded)"
      ],
      "execution_count": 30,
      "outputs": [
        {
          "output_type": "execute_result",
          "data": {
            "text/plain": [
              "Pipeline(steps=[('tf-idf', TfidfVectorizer()), ('clf', MultinomialNB())])"
            ]
          },
          "metadata": {},
          "execution_count": 30
        }
      ]
    },
    {
      "cell_type": "code",
      "metadata": {
        "colab": {
          "base_uri": "https://localhost:8080/"
        },
        "id": "cbqLmqKT3tIc",
        "outputId": "69cb21a5-b355-42c2-b3bc-dc8df030a2a1"
      },
      "source": [
        "# Evaluate baseline model on test dataset\n",
        "model_0.score(X=test_sentences,\n",
        "              y=test_labels_encoded)"
      ],
      "execution_count": 31,
      "outputs": [
        {
          "output_type": "execute_result",
          "data": {
            "text/plain": [
              "0.716674962667994"
            ]
          },
          "metadata": {},
          "execution_count": 31
        }
      ]
    },
    {
      "cell_type": "code",
      "metadata": {
        "colab": {
          "base_uri": "https://localhost:8080/"
        },
        "id": "bb8DcblX4Ji3",
        "outputId": "9f882c90-0327-4794-c3dd-d78333de9f47"
      },
      "source": [
        "# Make predicitions using the baseline model\n",
        "baseline_preds = model_0.predict(test_sentences)\n",
        "baseline_preds"
      ],
      "execution_count": 32,
      "outputs": [
        {
          "output_type": "execute_result",
          "data": {
            "text/plain": [
              "array([2, 2, 2, ..., 4, 4, 4])"
            ]
          },
          "metadata": {},
          "execution_count": 32
        }
      ]
    },
    {
      "cell_type": "code",
      "metadata": {
        "id": "66PaWAsl4lOz"
      },
      "source": [
        "def calculate_results(y_true, y_pred):\n",
        "  \"\"\"\n",
        "  Calculates model accuracy, precision, recall and f1 score of a binary classification model.\n",
        "\n",
        "  Args:\n",
        "    y_true: true labels in the form of a 1D array\n",
        "    y_preds: predicted labels in the form of a 1D array\n",
        "  \n",
        "  Returns a dictionary of accuracy, precision, recall, f1-score.\n",
        "  \"\"\"\n",
        "\n",
        "  # Calculate model accuracy\n",
        "  model_accuracy = accuracy_score(y_true, y_pred) * 100\n",
        "  # Calculate model precision, recall and f1-score using weighted average\n",
        "  model_precision, model_recall, model_f1_score, _  = precision_recall_fscore_support(y_true, y_pred, average=\"weighted\")\n",
        "  model_results = {\"accuracy\": model_accuracy,\n",
        "                   \"precision\": model_precision,\n",
        "                   \"recall\": model_recall,\n",
        "                   \"f1-score\": model_f1_score}\n",
        "  \n",
        "  return model_results "
      ],
      "execution_count": 33,
      "outputs": []
    },
    {
      "cell_type": "code",
      "metadata": {
        "colab": {
          "base_uri": "https://localhost:8080/"
        },
        "id": "MmsD8p4L4soS",
        "outputId": "a668a610-b92d-4b23-c78a-1c2cd17361df"
      },
      "source": [
        "baseline_results = calculate_results(y_true=test_labels_encoded, \n",
        "                                     y_pred=baseline_preds)\n",
        "baseline_results"
      ],
      "execution_count": 34,
      "outputs": [
        {
          "output_type": "execute_result",
          "data": {
            "text/plain": [
              "{'accuracy': 71.6674962667994,\n",
              " 'f1-score': 0.6925101703856846,\n",
              " 'precision': 0.7124322482375202,\n",
              " 'recall': 0.716674962667994}"
            ]
          },
          "metadata": {},
          "execution_count": 34
        }
      ]
    },
    {
      "cell_type": "markdown",
      "metadata": {
        "id": "qF-gZRUd4wym"
      },
      "source": [
        "## Model 2: Conv1D with custom token embeddings"
      ]
    },
    {
      "cell_type": "markdown",
      "metadata": {
        "id": "PtP25ZU7PEYH"
      },
      "source": [
        "### Preparing the data "
      ]
    },
    {
      "cell_type": "code",
      "metadata": {
        "colab": {
          "base_uri": "https://localhost:8080/"
        },
        "id": "N7QmIw156ebu",
        "outputId": "0d3d0d2e-d81b-44c0-e9d1-31db8b03daf7"
      },
      "source": [
        "# Length of each sentence on average\n",
        "sent_lens = [len(sentence.split()) for sentence in train_sentences]\n",
        "avg_sent_lens = np.mean(sent_lens)\n",
        "print(f\"Avergae sentence length is {avg_sent_lens}\")"
      ],
      "execution_count": 35,
      "outputs": [
        {
          "output_type": "stream",
          "name": "stdout",
          "text": [
            "Avergae sentence length is 26.338269273494777\n"
          ]
        }
      ]
    },
    {
      "cell_type": "code",
      "metadata": {
        "colab": {
          "base_uri": "https://localhost:8080/",
          "height": 265
        },
        "id": "VwDNF7Jt69v0",
        "outputId": "d37c6590-e98a-41c7-aa2b-d969a496eca8"
      },
      "source": [
        "# Distribution \n",
        "plt.hist(sent_lens, bins=20);"
      ],
      "execution_count": 36,
      "outputs": [
        {
          "output_type": "display_data",
          "data": {
            "image/png": "[encoded data removed]",
            "text/plain": [
              "<Figure size 432x288 with 1 Axes>"
            ]
          },
          "metadata": {
            "needs_background": "light"
          }
        }
      ]
    },
    {
      "cell_type": "code",
      "metadata": {
        "colab": {
          "base_uri": "https://localhost:8080/"
        },
        "id": "iiO1qbPR7FJe",
        "outputId": "dbb622f8-0ddc-4e21-d5b0-c82bfb224e54"
      },
      "source": [
        "# How long of a sentence length covers 95% of examples?\n",
        "output_seq_len = int(np.percentile(sent_lens, 95))\n",
        "output_seq_len  # 95% of examples have tokens of length 55 (at most)"
      ],
      "execution_count": 37,
      "outputs": [
        {
          "output_type": "execute_result",
          "data": {
            "text/plain": [
              "55"
            ]
          },
          "metadata": {},
          "execution_count": 37
        }
      ]
    },
    {
      "cell_type": "code",
      "metadata": {
        "colab": {
          "base_uri": "https://localhost:8080/"
        },
        "id": "c-IvKQEH7HuI",
        "outputId": "383e4645-5f44-499f-ded6-9ad91cf2bec8"
      },
      "source": [
        "# Maximum sequence length in the training set\n",
        "max(sent_lens)"
      ],
      "execution_count": 38,
      "outputs": [
        {
          "output_type": "execute_result",
          "data": {
            "text/plain": [
              "296"
            ]
          },
          "metadata": {},
          "execution_count": 38
        }
      ]
    },
    {
      "cell_type": "markdown",
      "metadata": {
        "id": "Hepo6DDr7Liz"
      },
      "source": [
        "### Text vectorizer layer"
      ]
    },
    {
      "cell_type": "code",
      "metadata": {
        "id": "kI29YU5h8pU4"
      },
      "source": [
        "max_tokens = 68000\n",
        "\n",
        "# Create text vectorizer\n",
        "from tensorflow.keras.layers.experimental.preprocessing import TextVectorization\n",
        "\n",
        "text_vectorizer = TextVectorization(max_tokens=max_tokens,\n",
        "                                    pad_to_max_tokens=True,\n",
        "                                    output_sequence_length=output_seq_len) \n",
        "\n",
        "# Adapt text vectorizer to the training sentences\n",
        "text_vectorizer.adapt(train_sentences)\n",
        "\n",
        "# Test out text vectorizer on random sentences\n",
        "# target_sentence = random.choice(train_sentences)\n",
        "# print(f\"Text: \\n{target_sentence}\")\n",
        "# print(f\"\\nLength of text: {len(target_sentence.split())}\")\n",
        "# print(f\"\\nVectorized text: {text_vectorizer([target_sentence])}\")"
      ],
      "execution_count": 39,
      "outputs": []
    },
    {
      "cell_type": "code",
      "metadata": {
        "colab": {
          "base_uri": "https://localhost:8080/"
        },
        "id": "2baZfZwv8-hp",
        "outputId": "c06e53b2-5f84-49d8-b1db-032d72dabf48"
      },
      "source": [
        "# Number of words in the training vocabulary \n",
        "rct_20k_text_vocab = text_vectorizer.get_vocabulary()\n",
        "print(f\"Number of words in vocab: {len(rct_20k_text_vocab)}\")\n",
        "print(f\"Most common words in the vocab: {rct_20k_text_vocab[:5]}\")\n",
        "print(f\"Least common words in the vocab: {rct_20k_text_vocab[-5:]}\")"
      ],
      "execution_count": 40,
      "outputs": [
        {
          "output_type": "stream",
          "name": "stdout",
          "text": [
            "Number of words in vocab: 64841\n",
            "Most common words in the vocab: ['', '[UNK]', 'the', 'and', 'of']\n",
            "Least common words in the vocab: ['aainduced', 'aaigroup', 'aachener', 'aachen', 'aaacp']\n"
          ]
        }
      ]
    },
    {
      "cell_type": "code",
      "metadata": {
        "colab": {
          "base_uri": "https://localhost:8080/"
        },
        "id": "Bpl1QERL9ItX",
        "outputId": "43831538-6842-45f2-bb2b-629af4523318"
      },
      "source": [
        "# Configuration of the text vectorizer\n",
        "text_vectorizer.get_config()"
      ],
      "execution_count": 41,
      "outputs": [
        {
          "output_type": "execute_result",
          "data": {
            "text/plain": [
              "{'batch_input_shape': (None,),\n",
              " 'dtype': 'string',\n",
              " 'idf_weights': None,\n",
              " 'max_tokens': 68000,\n",
              " 'name': 'text_vectorization',\n",
              " 'ngrams': None,\n",
              " 'output_mode': 'int',\n",
              " 'output_sequence_length': 55,\n",
              " 'pad_to_max_tokens': True,\n",
              " 'ragged': False,\n",
              " 'sparse': False,\n",
              " 'split': 'whitespace',\n",
              " 'standardize': 'lower_and_strip_punctuation',\n",
              " 'trainable': True,\n",
              " 'vocabulary': None}"
            ]
          },
          "metadata": {},
          "execution_count": 41
        }
      ]
    },
    {
      "cell_type": "markdown",
      "metadata": {
        "id": "5c7iqefE9YWG"
      },
      "source": [
        "### Custom embedding layer"
      ]
    },
    {
      "cell_type": "code",
      "metadata": {
        "id": "o_2QKTH_9dMx"
      },
      "source": [
        "# Create token embedding layer\n",
        "token_embed = layers.Embedding(input_dim=len(rct_20k_text_vocab),  \n",
        "                               output_dim=128, \n",
        "                               mask_zero=False,  \n",
        "                               name=\"token_embedding\")\n",
        "\n",
        "# Sample embedding\n",
        "# print(f\"Sentence before vectorization:\\n {target_sentence}\\n\")\n",
        "# vectorized_sentece = text_vectorizer([target_sentence])\n",
        "# print(f\"Vectorized text: (before embedding): \\n{vectorized_sentece}\\n\")\n",
        "# embedded_sentence = token_embed(vectorized_sentece)\n",
        "# print(f\"Sentence after embedding: \\n{embedded_sentence}\\n\")\n",
        "# print(f\"Embedded sentence shape: {embedded_sentence.shape}\")"
      ],
      "execution_count": 42,
      "outputs": []
    },
    {
      "cell_type": "markdown",
      "metadata": {
        "id": "yE1LRTdE97GS"
      },
      "source": [
        "### Creating TensorFlow datasets (more efficient)"
      ]
    },
    {
      "cell_type": "code",
      "metadata": {
        "colab": {
          "base_uri": "https://localhost:8080/"
        },
        "id": "ySSNxRag-MIf",
        "outputId": "79fb7d25-b332-468b-cbd3-58451631119e"
      },
      "source": [
        "# Turn our data into TensorFlow datasets\n",
        "\n",
        "train_dataset = tf.data.Dataset.from_tensor_slices((train_sentences, train_labels_one_hot))\n",
        "valid_dataset = tf.data.Dataset.from_tensor_slices((validation_sentences, validation_labels_one_hot))\n",
        "test_dataset = tf.data.Dataset.from_tensor_slices((test_sentences, test_labels_one_hot))\n",
        "\n",
        "train_dataset"
      ],
      "execution_count": 43,
      "outputs": [
        {
          "output_type": "execute_result",
          "data": {
            "text/plain": [
              "<TensorSliceDataset shapes: ((), (5,)), types: (tf.string, tf.float64)>"
            ]
          },
          "metadata": {},
          "execution_count": 43
        }
      ]
    },
    {
      "cell_type": "code",
      "metadata": {
        "colab": {
          "base_uri": "https://localhost:8080/"
        },
        "id": "-ZX5mGFN-PwC",
        "outputId": "a115acc2-3cca-43fa-d97f-788009e004fc"
      },
      "source": [
        "# The TensorSliceDataset's are turned into prefected datasets\n",
        "train_dataset = train_dataset.batch(32).prefetch(tf.data.AUTOTUNE)\n",
        "\n",
        "# Training dataset has not been shuffled as we want the model to learn order as well \n",
        "valid_dataset = valid_dataset.batch(32).prefetch(tf.data.AUTOTUNE)\n",
        "test_dataset = test_dataset.batch(32).prefetch(tf.data.AUTOTUNE)\n",
        "\n",
        "train_dataset"
      ],
      "execution_count": 44,
      "outputs": [
        {
          "output_type": "execute_result",
          "data": {
            "text/plain": [
              "<PrefetchDataset shapes: ((None,), (None, 5)), types: (tf.string, tf.float64)>"
            ]
          },
          "metadata": {},
          "execution_count": 44
        }
      ]
    },
    {
      "cell_type": "code",
      "metadata": {
        "colab": {
          "base_uri": "https://localhost:8080/"
        },
        "id": "ZTx86_gA-vN2",
        "outputId": "373edb77-f440-47a9-cfb1-fe73cbd5ff87"
      },
      "source": [
        "# Create 1D conv model to process sequences\n",
        "inputs = layers.Input(shape=(1, ), dtype=tf.string)\n",
        "text_vectors = text_vectorizer(inputs) # vectorize text inputs\n",
        "token_embeddings = token_embed(text_vectors)\n",
        "x = layers.Conv1D(64, kernel_size=5, padding=\"same\", activation=\"relu\")(token_embeddings)\n",
        "x = layers.GlobalAveragePooling1D()(x)\n",
        "outputs = layers.Dense(num_classes, activation=\"softmax\")(x)\n",
        "model_1 = tf.keras.Model(inputs, outputs)\n",
        "\n",
        "# Compile the model\n",
        "model_1.compile(loss=\"categorical_crossentropy\",\n",
        "                optimizer=tf.keras.optimizers.Adam(), \n",
        "                metrics=[\"accuracy\"])\n",
        "\n",
        "# Summary of the model\n",
        "model_1.summary()"
      ],
      "execution_count": 45,
      "outputs": [
        {
          "output_type": "stream",
          "name": "stdout",
          "text": [
            "Model: \"model\"\n",
            "_________________________________________________________________\n",
            " Layer (type)                Output Shape              Param #   \n",
            "=================================================================\n",
            " input_1 (InputLayer)        [(None, 1)]               0         \n",
            "                                                                 \n",
            " text_vectorization (TextVec  (None, 55)               0         \n",
            " torization)                                                     \n",
            "                                                                 \n",
            " token_embedding (Embedding)  (None, 55, 128)          8299648   \n",
            "                                                                 \n",
            " conv1d (Conv1D)             (None, 55, 64)            41024     \n",
            "                                                                 \n",
            " global_average_pooling1d (G  (None, 64)               0         \n",
            " lobalAveragePooling1D)                                          \n",
            "                                                                 \n",
            " dense (Dense)               (None, 5)                 325       \n",
            "                                                                 \n",
            "=================================================================\n",
            "Total params: 8,340,997\n",
            "Trainable params: 8,340,997\n",
            "Non-trainable params: 0\n",
            "_________________________________________________________________\n"
          ]
        }
      ]
    },
    {
      "cell_type": "code",
      "metadata": {
        "colab": {
          "base_uri": "https://localhost:8080/"
        },
        "id": "lp6A3JDp-0CZ",
        "outputId": "f5e7a2aa-0a41-4d13-b0f2-516b229e16e8"
      },
      "source": [
        "# Fitting the model \n",
        "history_1 = model_1.fit(train_dataset, \n",
        "                        steps_per_epoch=int(0.1*len(train_dataset)), # 10% of batches every epoch\n",
        "                        epochs=10,\n",
        "                        validation_data=valid_dataset,\n",
        "                        validation_steps=int(0.1*len(valid_dataset)))                     "
      ],
      "execution_count": 46,
      "outputs": [
        {
          "output_type": "stream",
          "name": "stdout",
          "text": [
            "Epoch 1/10\n",
            "562/562 [==============================] - 17s 14ms/step - loss: 0.9269 - accuracy: 0.6312 - val_loss: 0.6913 - val_accuracy: 0.7394\n",
            "Epoch 2/10\n",
            "562/562 [==============================] - 7s 13ms/step - loss: 0.6604 - accuracy: 0.7548 - val_loss: 0.6323 - val_accuracy: 0.7696\n",
            "Epoch 3/10\n",
            "562/562 [==============================] - 7s 13ms/step - loss: 0.6177 - accuracy: 0.7729 - val_loss: 0.5984 - val_accuracy: 0.7846\n",
            "Epoch 4/10\n",
            "562/562 [==============================] - 8s 13ms/step - loss: 0.5897 - accuracy: 0.7871 - val_loss: 0.5790 - val_accuracy: 0.7892\n",
            "Epoch 5/10\n",
            "562/562 [==============================] - 7s 13ms/step - loss: 0.5914 - accuracy: 0.7905 - val_loss: 0.5629 - val_accuracy: 0.7975\n",
            "Epoch 6/10\n",
            "562/562 [==============================] - 7s 13ms/step - loss: 0.5823 - accuracy: 0.7898 - val_loss: 0.5616 - val_accuracy: 0.8002\n",
            "Epoch 7/10\n",
            "562/562 [==============================] - 7s 13ms/step - loss: 0.5594 - accuracy: 0.8004 - val_loss: 0.5455 - val_accuracy: 0.8078\n",
            "Epoch 8/10\n",
            "562/562 [==============================] - 8s 13ms/step - loss: 0.5414 - accuracy: 0.8109 - val_loss: 0.5307 - val_accuracy: 0.8115\n",
            "Epoch 9/10\n",
            "562/562 [==============================] - 7s 13ms/step - loss: 0.5424 - accuracy: 0.8086 - val_loss: 0.5532 - val_accuracy: 0.7959\n",
            "Epoch 10/10\n",
            "562/562 [==============================] - 7s 13ms/step - loss: 0.5452 - accuracy: 0.8054 - val_loss: 0.5309 - val_accuracy: 0.8095\n"
          ]
        }
      ]
    },
    {
      "cell_type": "code",
      "metadata": {
        "colab": {
          "base_uri": "https://localhost:8080/"
        },
        "id": "IFzoCMpf-9qX",
        "outputId": "06ad3b08-ded7-42d2-a60d-8502d59400b7"
      },
      "source": [
        "# Evaluate on test dataset\n",
        "model_1.evaluate(test_dataset)"
      ],
      "execution_count": 47,
      "outputs": [
        {
          "output_type": "stream",
          "name": "stdout",
          "text": [
            "942/942 [==============================] - 4s 4ms/step - loss: 0.5404 - accuracy: 0.8066\n"
          ]
        },
        {
          "output_type": "execute_result",
          "data": {
            "text/plain": [
              "[0.5404382944107056, 0.8066368103027344]"
            ]
          },
          "metadata": {},
          "execution_count": 47
        }
      ]
    },
    {
      "cell_type": "code",
      "metadata": {
        "colab": {
          "base_uri": "https://localhost:8080/"
        },
        "id": "3ukObk5sAcSY",
        "outputId": "f9ce5b42-2c58-4f3b-d82a-83b886586746"
      },
      "source": [
        "# Make predictions (our model predicts prediction probabilities for each class)\n",
        "model_1_pred_probs = model_1.predict(test_dataset)\n",
        "model_1_pred_probs, model_1_pred_probs.shape\n",
        "\n",
        "# Convert pred probs to classes\n",
        "model_1_preds = tf.argmax(model_1_pred_probs, axis=1)\n",
        "model_1_preds\n",
        "\n",
        "# Calculate model_1 results\n",
        "model_1_results = calculate_results(y_true=test_labels_encoded,\n",
        "                                    y_pred=model_1_preds)\n",
        "model_1_results"
      ],
      "execution_count": 48,
      "outputs": [
        {
          "output_type": "execute_result",
          "data": {
            "text/plain": [
              "{'accuracy': 80.66368010618882,\n",
              " 'f1-score': 0.8031249565615771,\n",
              " 'precision': 0.8020268573426742,\n",
              " 'recall': 0.8066368010618882}"
            ]
          },
          "metadata": {},
          "execution_count": 48
        }
      ]
    },
    {
      "cell_type": "markdown",
      "metadata": {
        "id": "ZkHaRYg8PLAp"
      },
      "source": [
        "## Model 3: Conv1D with character embeddings"
      ]
    },
    {
      "cell_type": "markdown",
      "metadata": {
        "id": "Tn78_eSkAwnK"
      },
      "source": [
        "### Creating a character-level tokenizer"
      ]
    },
    {
      "cell_type": "code",
      "metadata": {
        "colab": {
          "base_uri": "https://localhost:8080/",
          "height": 53
        },
        "id": "lOkccJ3YB7Ka",
        "outputId": "44d2b794-c354-41a4-f64e-f4a19d15e86c"
      },
      "source": [
        "# Make function to split sentences into characters\n",
        "def split_chars(text):\n",
        "  return \" \".join(list(text))\n",
        "\n",
        "# Text splitting non-character lebel sequence into characters\n",
        "random_train_sentence = random.choice(train_sentences)\n",
        "split_chars(random_train_sentence)"
      ],
      "execution_count": 49,
      "outputs": [
        {
          "output_type": "execute_result",
          "data": {
            "application/vnd.google.colaboratory.intrinsic+json": {
              "type": "string"
            },
            "text/plain": [
              "'p a r t i c i p a n t s   w i l l   b e   a s s e s s e d   u s i n g   q u e s t i o n n a i r e s   a t   b a s e l i n e   ,   @ w e e k s   (   p o s t - i n t e r v e n t i o n   )   ,   a n d   @ w e e k s   (   f o l l o w - u p   )   .'"
            ]
          },
          "metadata": {},
          "execution_count": 49
        }
      ]
    },
    {
      "cell_type": "code",
      "metadata": {
        "id": "Fhz0hN1gB-eW"
      },
      "source": [
        "# Split sequenece-level data splits into character-level data splits\n",
        "train_chars = [split_chars(sentences) for sentences in train_sentences]\n",
        "val_chars = [split_chars(sentence) for sentence in validation_sentences]\n",
        "test_chars = [split_chars(sentence) for sentence in test_sentences]\n",
        "# train_chars[:5]"
      ],
      "execution_count": 50,
      "outputs": []
    },
    {
      "cell_type": "code",
      "metadata": {
        "colab": {
          "base_uri": "https://localhost:8080/"
        },
        "id": "MIys-ALbCyzo",
        "outputId": "500e795a-baba-4597-f996-3da49c2f5b9e"
      },
      "source": [
        "# Average character length\n",
        "char_lens = [len(sentence) for sentence in train_sentences]\n",
        "mean_char_len = np.mean(char_lens)\n",
        "mean_char_len"
      ],
      "execution_count": 51,
      "outputs": [
        {
          "output_type": "execute_result",
          "data": {
            "text/plain": [
              "149.3662574983337"
            ]
          },
          "metadata": {},
          "execution_count": 51
        }
      ]
    },
    {
      "cell_type": "code",
      "metadata": {
        "colab": {
          "base_uri": "https://localhost:8080/",
          "height": 265
        },
        "id": "DQFHXWvhC3l-",
        "outputId": "74247cbf-a3db-483f-8068-0b2e0785e751"
      },
      "source": [
        "# Check the distributon of our sequences at a character-level\n",
        "plt.hist(char_lens, bins=7);"
      ],
      "execution_count": 52,
      "outputs": [
        {
          "output_type": "display_data",
          "data": {
            "image/png": "[encoded data removed]",
            "text/plain": [
              "<Figure size 432x288 with 1 Axes>"
            ]
          },
          "metadata": {
            "needs_background": "light"
          }
        }
      ]
    },
    {
      "cell_type": "code",
      "metadata": {
        "colab": {
          "base_uri": "https://localhost:8080/"
        },
        "id": "Ne-Hnf2YC7Fu",
        "outputId": "cd4ae0be-b5a5-4468-d339-ebf07bbf56b6"
      },
      "source": [
        "# Character length that covers 95% of sequence\n",
        "output_seq_char_len = int(np.percentile(char_lens, 95))\n",
        "output_seq_char_len"
      ],
      "execution_count": 53,
      "outputs": [
        {
          "output_type": "execute_result",
          "data": {
            "text/plain": [
              "290"
            ]
          },
          "metadata": {},
          "execution_count": 53
        }
      ]
    },
    {
      "cell_type": "code",
      "metadata": {
        "colab": {
          "base_uri": "https://localhost:8080/"
        },
        "id": "n6pU1QgtDK9t",
        "outputId": "909b2e44-1cdb-4f1a-91ff-be911de7b6f8"
      },
      "source": [
        "# Get all keyboard characters\n",
        "alphabet = string.ascii_lowercase + string.digits + string.punctuation \n",
        "\n",
        "# Create char-level token vectorizer instance\n",
        "NUM_CHAR_TOKENS = len(alphabet) + 2 # add 2 for space and OOV token (OOV = out of order tokens)\n",
        "char_vectorizer = TextVectorization(max_tokens=NUM_CHAR_TOKENS,\n",
        "                                    output_sequence_length=output_seq_char_len,\n",
        "                                    name=\"char_vectorizer\")\n",
        "\n",
        "# Adapt character vectorizer to training character\n",
        "char_vectorizer.adapt(train_chars)\n",
        "\n",
        "# Check character vocab stats\n",
        "char_vocab = char_vectorizer.get_vocabulary()\n",
        "print(f\"Number of different characters in character vocab: {len(char_vocab)}\")\n",
        "print(f\"5 most common characters: {char_vocab[:5]}\")\n",
        "print(f\"5 least common characters: {char_vocab[-5:]}\")\n",
        "\n",
        "# Test our character vectorizer\n",
        "random_train_chars = random.choice(train_chars)\n",
        "print(f\"Charified text:\\n {random_train_chars}\")\n",
        "print(f\"\\nLength of random_train_chars: {len(random_train_chars.split())}\")\n",
        "vectorized_chars = char_vectorizer([random_train_chars])\n",
        "print(f\"\\nVectorized chars:\\n {vectorized_chars}\")\n",
        "print(f\"\\nLength of vectorized chars:\\n {len(vectorized_chars[0])}\")"
      ],
      "execution_count": 54,
      "outputs": [
        {
          "output_type": "stream",
          "name": "stdout",
          "text": [
            "Number of different characters in character vocab: 28\n",
            "5 most common characters: ['', '[UNK]', 'e', 't', 'i']\n",
            "5 least common characters: ['k', 'x', 'z', 'q', 'j']\n",
            "Charified text:\n",
            " o u t c o m e s   w e r e   c o m p a r e d   b e t w e e n   s e x e s   w i t h i n   t r e a t m e n t   s t r a t a   .\n",
            "\n",
            "Length of random_train_chars: 54\n",
            "\n",
            "Vectorized chars:\n",
            " [[ 7 16  3 11  7 15  2  9 20  2  8  2 11  7 15 14  5  8  2 10 22  2  3 20\n",
            "   2  2  6  9  2 24  2  9 20  4  3 13  4  6  3  8  2  5  3 15  2  6  3  9\n",
            "   3  8  5  3  5  0  0  0  0  0  0  0  0  0  0  0  0  0  0  0  0  0  0  0\n",
            "   0  0  0  0  0  0  0  0  0  0  0  0  0  0  0  0  0  0  0  0  0  0  0  0\n",
            "   0  0  0  0  0  0  0  0  0  0  0  0  0  0  0  0  0  0  0  0  0  0  0  0\n",
            "   0  0  0  0  0  0  0  0  0  0  0  0  0  0  0  0  0  0  0  0  0  0  0  0\n",
            "   0  0  0  0  0  0  0  0  0  0  0  0  0  0  0  0  0  0  0  0  0  0  0  0\n",
            "   0  0  0  0  0  0  0  0  0  0  0  0  0  0  0  0  0  0  0  0  0  0  0  0\n",
            "   0  0  0  0  0  0  0  0  0  0  0  0  0  0  0  0  0  0  0  0  0  0  0  0\n",
            "   0  0  0  0  0  0  0  0  0  0  0  0  0  0  0  0  0  0  0  0  0  0  0  0\n",
            "   0  0  0  0  0  0  0  0  0  0  0  0  0  0  0  0  0  0  0  0  0  0  0  0\n",
            "   0  0  0  0  0  0  0  0  0  0  0  0  0  0  0  0  0  0  0  0  0  0  0  0\n",
            "   0  0]]\n",
            "\n",
            "Length of vectorized chars:\n",
            " 290\n"
          ]
        }
      ]
    },
    {
      "cell_type": "markdown",
      "metadata": {
        "id": "NNo5sXk6ESLs"
      },
      "source": [
        "### Creating character-level embeddings"
      ]
    },
    {
      "cell_type": "code",
      "metadata": {
        "colab": {
          "base_uri": "https://localhost:8080/"
        },
        "id": "mm-9pn1sEeAv",
        "outputId": "920a776c-fd2b-459a-d85a-bb152b754e89"
      },
      "source": [
        "# Create a char embedding layer\n",
        "char_embed = layers.Embedding(input_dim=len(char_vocab), \n",
        "                              output_dim=25, \n",
        "                              mask_zero=False,\n",
        "                              name=\"char_embed\")\n",
        "\n",
        "# Test our character embedding layer\n",
        "print(f\"Charified text: \\n {random_train_chars}\\n\")\n",
        "char_embed_example = char_embed(char_vectorizer([random_train_chars]))\n",
        "print(f\"Embedded chars (after vectorization and embedding) \\n: {char_embed_example} \\n\")\n",
        "print(f\"Character embedding shape: {char_embed_example.shape}\")"
      ],
      "execution_count": 55,
      "outputs": [
        {
          "output_type": "stream",
          "name": "stdout",
          "text": [
            "Charified text: \n",
            " o u t c o m e s   w e r e   c o m p a r e d   b e t w e e n   s e x e s   w i t h i n   t r e a t m e n t   s t r a t a   .\n",
            "\n",
            "Embedded chars (after vectorization and embedding) \n",
            ": [[[-0.02156454 -0.02971679  0.02838251 ...  0.03508601  0.02482981\n",
            "    0.02675383]\n",
            "  [ 0.0278498   0.02156129  0.00865816 ... -0.00266842 -0.04520218\n",
            "   -0.04231834]\n",
            "  [-0.04977169 -0.01763422 -0.04055853 ... -0.02186637  0.00760897\n",
            "   -0.01345543]\n",
            "  ...\n",
            "  [-0.03455371  0.03164018  0.01848502 ... -0.00826784 -0.03910179\n",
            "   -0.02562314]\n",
            "  [-0.03455371  0.03164018  0.01848502 ... -0.00826784 -0.03910179\n",
            "   -0.02562314]\n",
            "  [-0.03455371  0.03164018  0.01848502 ... -0.00826784 -0.03910179\n",
            "   -0.02562314]]] \n",
            "\n",
            "Character embedding shape: (1, 290, 25)\n"
          ]
        }
      ]
    },
    {
      "cell_type": "markdown",
      "metadata": {
        "id": "tIrFJOIhFcOT"
      },
      "source": [
        "### Creating character level datasets"
      ]
    },
    {
      "cell_type": "code",
      "metadata": {
        "id": "SeSv19aaFaAV"
      },
      "source": [
        "train_char_dataset = tf.data.Dataset.from_tensor_slices((train_chars, train_labels_one_hot)).batch(32).prefetch(tf.data.AUTOTUNE)\n",
        "val_char_dataset = tf.data.Dataset.from_tensor_slices((val_chars, validation_labels_one_hot)).batch(32).prefetch(tf.data.AUTOTUNE)\n",
        "test_char_dataset = tf.data.Dataset.from_tensor_slices((test_chars, test_labels_one_hot)).batch(32).prefetch(tf.data.AUTOTUNE)"
      ],
      "execution_count": 56,
      "outputs": []
    },
    {
      "cell_type": "code",
      "metadata": {
        "colab": {
          "base_uri": "https://localhost:8080/"
        },
        "id": "i1n2nMhaE9tW",
        "outputId": "7f871d17-3d2c-4970-84ba-dfaa7166aa75"
      },
      "source": [
        "# Conv1D on chars \n",
        "inputs = layers.Input(shape=(1, ),\n",
        "                      dtype=tf.string)\n",
        "char_vectors = char_vectorizer(inputs)\n",
        "char_embeddings = char_embed(char_vectors)\n",
        "x = layers.Conv1D(64, kernel_size=5, padding=\"same\", activation=\"relu\")(char_embeddings)\n",
        "x = layers.GlobalMaxPool1D()(x)\n",
        "outputs = layers.Dense(num_classes, activation=\"softmax\")(x)\n",
        "model_2 = tf.keras.Model(inputs=inputs,\n",
        "                         outputs=outputs,\n",
        "                         name=\"model_2_conv1d_char_embeddings\")\n",
        "\n",
        "# Compile the model\n",
        "model_2.compile(loss=\"categorical_crossentropy\",\n",
        "                optimizer=tf.keras.optimizers.Adam(),\n",
        "                metrics=[\"accuracy\"])\n",
        "\n",
        "# Summary\n",
        "model_2.summary()\n"
      ],
      "execution_count": 57,
      "outputs": [
        {
          "output_type": "stream",
          "name": "stdout",
          "text": [
            "Model: \"model_2_conv1d_char_embeddings\"\n",
            "_________________________________________________________________\n",
            " Layer (type)                Output Shape              Param #   \n",
            "=================================================================\n",
            " input_2 (InputLayer)        [(None, 1)]               0         \n",
            "                                                                 \n",
            " char_vectorizer (TextVector  (None, 290)              0         \n",
            " ization)                                                        \n",
            "                                                                 \n",
            " char_embed (Embedding)      (None, 290, 25)           700       \n",
            "                                                                 \n",
            " conv1d_1 (Conv1D)           (None, 290, 64)           8064      \n",
            "                                                                 \n",
            " global_max_pooling1d (Globa  (None, 64)               0         \n",
            " lMaxPooling1D)                                                  \n",
            "                                                                 \n",
            " dense_1 (Dense)             (None, 5)                 325       \n",
            "                                                                 \n",
            "=================================================================\n",
            "Total params: 9,089\n",
            "Trainable params: 9,089\n",
            "Non-trainable params: 0\n",
            "_________________________________________________________________\n"
          ]
        }
      ]
    },
    {
      "cell_type": "code",
      "metadata": {
        "colab": {
          "base_uri": "https://localhost:8080/"
        },
        "id": "A3V4oCO5FT_a",
        "outputId": "c67d7d74-f707-45e2-ac59-4b7321b0a786"
      },
      "source": [
        "# Fit the model \n",
        "history_model_2 = model_2.fit(train_char_dataset,\n",
        "                              epochs=10,\n",
        "                              steps_per_epoch=int(0.1*len(train_char_dataset)),\n",
        "                              validation_data=val_char_dataset,\n",
        "                              validation_steps=int(0.1*len(val_char_dataset)))"
      ],
      "execution_count": 58,
      "outputs": [
        {
          "output_type": "stream",
          "name": "stdout",
          "text": [
            "Epoch 1/10\n",
            "562/562 [==============================] - 6s 10ms/step - loss: 1.2688 - accuracy: 0.4900 - val_loss: 1.0417 - val_accuracy: 0.5878\n",
            "Epoch 2/10\n",
            "562/562 [==============================] - 5s 9ms/step - loss: 0.9958 - accuracy: 0.6023 - val_loss: 0.9202 - val_accuracy: 0.6336\n",
            "Epoch 3/10\n",
            "562/562 [==============================] - 5s 10ms/step - loss: 0.9116 - accuracy: 0.6454 - val_loss: 0.8458 - val_accuracy: 0.6752\n",
            "Epoch 4/10\n",
            "562/562 [==============================] - 5s 9ms/step - loss: 0.8607 - accuracy: 0.6639 - val_loss: 0.8170 - val_accuracy: 0.6862\n",
            "Epoch 5/10\n",
            "562/562 [==============================] - 5s 9ms/step - loss: 0.8470 - accuracy: 0.6735 - val_loss: 0.7940 - val_accuracy: 0.6958\n",
            "Epoch 6/10\n",
            "562/562 [==============================] - 5s 10ms/step - loss: 0.8288 - accuracy: 0.6779 - val_loss: 0.7687 - val_accuracy: 0.7098\n",
            "Epoch 7/10\n",
            "562/562 [==============================] - 5s 9ms/step - loss: 0.8140 - accuracy: 0.6839 - val_loss: 0.7568 - val_accuracy: 0.7141\n",
            "Epoch 8/10\n",
            "562/562 [==============================] - 5s 9ms/step - loss: 0.7818 - accuracy: 0.7025 - val_loss: 0.7624 - val_accuracy: 0.7108\n",
            "Epoch 9/10\n",
            "562/562 [==============================] - 5s 9ms/step - loss: 0.7774 - accuracy: 0.7027 - val_loss: 0.7728 - val_accuracy: 0.7028\n",
            "Epoch 10/10\n",
            "562/562 [==============================] - 5s 9ms/step - loss: 0.7708 - accuracy: 0.7044 - val_loss: 0.7306 - val_accuracy: 0.7211\n"
          ]
        }
      ]
    },
    {
      "cell_type": "code",
      "metadata": {
        "colab": {
          "base_uri": "https://localhost:8080/"
        },
        "id": "SzjLUs48Fkyp",
        "outputId": "043d341f-90eb-495a-9aaf-570eda06c02f"
      },
      "source": [
        "# Make predictions \n",
        "model_2_pred_probs = model_2.predict(test_char_dataset)\n",
        "model_2_pred_probs\n",
        "\n",
        "# Convert prediction probabilities to class labels\n",
        "model_2_preds = tf.argmax(model_2_pred_probs, axis=1)\n",
        "model_2_preds\n",
        "\n",
        "# Calculate results for Conv1D model chars only\n",
        "model_2_results = calculate_results(y_true=test_labels_encoded,\n",
        "                                    y_pred=model_2_preds)\n",
        "model_2_results"
      ],
      "execution_count": 59,
      "outputs": [
        {
          "output_type": "execute_result",
          "data": {
            "text/plain": [
              "{'accuracy': 70.83789613406339,\n",
              " 'f1-score': 0.7024440510850104,\n",
              " 'precision': 0.7012305101730432,\n",
              " 'recall': 0.7083789613406338}"
            ]
          },
          "metadata": {},
          "execution_count": 59
        }
      ]
    },
    {
      "cell_type": "markdown",
      "metadata": {
        "id": "x45wlwA9F4F_"
      },
      "source": [
        "## Model 4: Feature Extraction with pretrained token embeddings"
      ]
    },
    {
      "cell_type": "code",
      "metadata": {
        "colab": {
          "base_uri": "https://localhost:8080/"
        },
        "id": "nJhSxlbHGNvK",
        "outputId": "1392c487-36ab-4c3c-aa75-e805834d40fc"
      },
      "source": [
        "# Download pretrained TensorFlow Hub USE\n",
        "import tensorflow_hub as hub\n",
        "tf_hub_embedding_layer = hub.KerasLayer(\"https://tfhub.dev/google/universal-sentence-encoder/4\",\n",
        "                                        trainable=False,\n",
        "                                        name=\"universal_sentence_encoder\")\n",
        "\n",
        "# Test out the pretrained embedding on a random sentence\n",
        "random_train_sentence = random.choice(train_sentences)\n",
        "print(f\"Random sentence:\\n {random_train_sentence}\")\n",
        "use_embedded_sentence = tf_hub_embedding_layer([random_train_sentence])\n",
        "print(f\"Sentence after embedding:\\n{use_embedded_sentence[0][:30]}\\n\") \n",
        "print(f\"Length of sentence embedding: {len(use_embedded_sentence[0])}\")"
      ],
      "execution_count": 60,
      "outputs": [
        {
          "output_type": "stream",
          "name": "stdout",
          "text": [
            "Random sentence:\n",
            " neither passive recovery nor running at ~ @ % of vo@peak between @ heats changed performance significantly .\n",
            "Sentence after embedding:\n",
            "[-0.04396169 -0.01435326 -0.01762747 -0.04491922 -0.02494883  0.05895257\n",
            "  0.01702224 -0.01929711  0.05414889  0.07134083 -0.02278336 -0.04645795\n",
            " -0.03265717 -0.02391117 -0.00881385  0.04278456  0.02114337 -0.06583799\n",
            " -0.0090386   0.01509295  0.05862322  0.03483447 -0.02182192 -0.04012351\n",
            "  0.00965327  0.06971093  0.07131387  0.04854383 -0.07365382  0.03571198]\n",
            "\n",
            "Length of sentence embedding: 512\n"
          ]
        }
      ]
    },
    {
      "cell_type": "code",
      "metadata": {
        "colab": {
          "base_uri": "https://localhost:8080/"
        },
        "id": "I48bH7Q_GTYt",
        "outputId": "5bf139b8-73f9-479a-a0b7-6b476b783318"
      },
      "source": [
        "# Model construction\n",
        "\n",
        "# Define feature extraction model using TF Hub layer\n",
        "inputs = layers.Input(shape=[], dtype=tf.string)\n",
        "pretrained_embedding = tf_hub_embedding_layer(inputs) \n",
        "x = layers.Dense(128, activation=\"relu\")(pretrained_embedding)\n",
        "outputs = layers.Dense(num_classes, activation=\"softmax\")(x) \n",
        "model_3 = tf.keras.Model(inputs=inputs, \n",
        "                         outputs=outputs,\n",
        "                         name=\"model_3_USE_feature_extractor\")\n",
        "# Compile the model\n",
        "model_3.compile(loss=\"categorical_crossentropy\",\n",
        "                optimizer=tf.keras.optimizers.Adam(),\n",
        "                metrics=[\"accuracy\"])\n",
        "\n",
        "# Summary of the model \n",
        "model_3.summary()"
      ],
      "execution_count": 61,
      "outputs": [
        {
          "output_type": "stream",
          "name": "stdout",
          "text": [
            "Model: \"model_3_USE_feature_extractor\"\n",
            "_________________________________________________________________\n",
            " Layer (type)                Output Shape              Param #   \n",
            "=================================================================\n",
            " input_3 (InputLayer)        [(None,)]                 0         \n",
            "                                                                 \n",
            " universal_sentence_encoder   (None, 512)              256797824 \n",
            " (KerasLayer)                                                    \n",
            "                                                                 \n",
            " dense_2 (Dense)             (None, 128)               65664     \n",
            "                                                                 \n",
            " dense_3 (Dense)             (None, 5)                 645       \n",
            "                                                                 \n",
            "=================================================================\n",
            "Total params: 256,864,133\n",
            "Trainable params: 66,309\n",
            "Non-trainable params: 256,797,824\n",
            "_________________________________________________________________\n"
          ]
        }
      ]
    },
    {
      "cell_type": "code",
      "metadata": {
        "colab": {
          "base_uri": "https://localhost:8080/"
        },
        "id": "XL84BJlhGWFx",
        "outputId": "ad536a5d-5441-4634-ad75-cd7f651a11d5"
      },
      "source": [
        "# Fit model to the data\n",
        "history_model_3 = model_3.fit(train_dataset,\n",
        "                              epochs=10,\n",
        "                              steps_per_epoch=int(0.1*len(train_dataset)),\n",
        "                              validation_data=valid_dataset,\n",
        "                              validation_steps=int(0.1*len(valid_dataset)))"
      ],
      "execution_count": 62,
      "outputs": [
        {
          "output_type": "stream",
          "name": "stdout",
          "text": [
            "Epoch 1/10\n",
            "562/562 [==============================] - 14s 19ms/step - loss: 0.9178 - accuracy: 0.6511 - val_loss: 0.7974 - val_accuracy: 0.6902\n",
            "Epoch 2/10\n",
            "562/562 [==============================] - 11s 19ms/step - loss: 0.7696 - accuracy: 0.7021 - val_loss: 0.7574 - val_accuracy: 0.7015\n",
            "Epoch 3/10\n",
            "562/562 [==============================] - 11s 19ms/step - loss: 0.7535 - accuracy: 0.7124 - val_loss: 0.7416 - val_accuracy: 0.7121\n",
            "Epoch 4/10\n",
            "562/562 [==============================] - 11s 19ms/step - loss: 0.7196 - accuracy: 0.7234 - val_loss: 0.7136 - val_accuracy: 0.7287\n",
            "Epoch 5/10\n",
            "562/562 [==============================] - 10s 19ms/step - loss: 0.7280 - accuracy: 0.7205 - val_loss: 0.6925 - val_accuracy: 0.7337\n",
            "Epoch 6/10\n",
            "562/562 [==============================] - 11s 19ms/step - loss: 0.7180 - accuracy: 0.7259 - val_loss: 0.6843 - val_accuracy: 0.7320\n",
            "Epoch 7/10\n",
            "562/562 [==============================] - 11s 19ms/step - loss: 0.6856 - accuracy: 0.7379 - val_loss: 0.6663 - val_accuracy: 0.7463\n",
            "Epoch 8/10\n",
            "562/562 [==============================] - 11s 19ms/step - loss: 0.6745 - accuracy: 0.7459 - val_loss: 0.6549 - val_accuracy: 0.7497\n",
            "Epoch 9/10\n",
            "562/562 [==============================] - 11s 19ms/step - loss: 0.6728 - accuracy: 0.7438 - val_loss: 0.6545 - val_accuracy: 0.7483\n",
            "Epoch 10/10\n",
            "562/562 [==============================] - 10s 19ms/step - loss: 0.6667 - accuracy: 0.7482 - val_loss: 0.6505 - val_accuracy: 0.7560\n"
          ]
        }
      ]
    },
    {
      "cell_type": "code",
      "metadata": {
        "colab": {
          "base_uri": "https://localhost:8080/"
        },
        "id": "WiVLkgC04h-2",
        "outputId": "ef34fa05-3cea-490a-88fb-0ddd67680c25"
      },
      "source": [
        "# Evaluate on the whole test dataset\n",
        "model_3.evaluate(test_dataset)"
      ],
      "execution_count": 63,
      "outputs": [
        {
          "output_type": "stream",
          "name": "stdout",
          "text": [
            "942/942 [==============================] - 15s 16ms/step - loss: 0.6715 - accuracy: 0.7438\n"
          ]
        },
        {
          "output_type": "execute_result",
          "data": {
            "text/plain": [
              "[0.6714958548545837, 0.7438194751739502]"
            ]
          },
          "metadata": {},
          "execution_count": 63
        }
      ]
    },
    {
      "cell_type": "code",
      "metadata": {
        "colab": {
          "base_uri": "https://localhost:8080/"
        },
        "id": "oBguolp2HVML",
        "outputId": "9a12f241-05c5-459d-ca0e-62d7c1ce036d"
      },
      "source": [
        "# Make predictions with feature extraction model\n",
        "model_3_pred_probs = model_3.predict(test_dataset)\n",
        "model_3_pred_probs\n",
        "\n",
        "# Convert the prediction probabilites found with feature extraction model to labels\n",
        "model_3_preds = tf.argmax(model_3_pred_probs, axis=1)\n",
        "model_3_preds\n",
        "\n",
        "# Calculate result from TF Hub pretrained embeddings \n",
        "model_3_results = calculate_results(y_true=test_labels_encoded,\n",
        "                                    y_pred=model_3_preds)\n",
        "model_3_results"
      ],
      "execution_count": 64,
      "outputs": [
        {
          "output_type": "execute_result",
          "data": {
            "text/plain": [
              "{'accuracy': 74.38194790111167,\n",
              " 'f1-score': 0.7388490158220625,\n",
              " 'precision': 0.7382607470265952,\n",
              " 'recall': 0.7438194790111167}"
            ]
          },
          "metadata": {},
          "execution_count": 64
        }
      ]
    },
    {
      "cell_type": "markdown",
      "metadata": {
        "id": "Ectb_wy0Hdzo"
      },
      "source": [
        "## Model 5: Creating a hybrid embedding layer (pretrained token embeddings + character embeddings)"
      ]
    },
    {
      "cell_type": "markdown",
      "metadata": {
        "id": "3S7kWJp4Lgir"
      },
      "source": [
        "### Combining token and character datasets "
      ]
    },
    {
      "cell_type": "code",
      "metadata": {
        "id": "9qoLCi7vLpxI"
      },
      "source": [
        "# Combine chars and tokens into a dataset\n",
        "train_char_token_data = tf.data.Dataset.from_tensor_slices((train_sentences, train_chars))  \n",
        "train_char_token_labels = tf.data.Dataset.from_tensor_slices(train_labels_one_hot) \n",
        "train_char_token_dataset = tf.data.Dataset.zip((train_char_token_data, train_char_token_labels)) \n",
        "# Prefetch and batch train data\n",
        "train_char_token_dataset = train_char_token_dataset.batch(32).prefetch(tf.data.AUTOTUNE)\n",
        "\n",
        "# For the validation data\n",
        "valid_char_token_data = tf.data.Dataset.from_tensor_slices((validation_sentences, val_chars))  \n",
        "valid_char_token_labels = tf.data.Dataset.from_tensor_slices(validation_labels_one_hot) \n",
        "valid_char_token_dataset = tf.data.Dataset.zip((valid_char_token_data, valid_char_token_labels)) \n",
        "valid_char_token_dataset = valid_char_token_dataset.batch(32).prefetch(tf.data.AUTOTUNE)\n",
        "\n",
        "# For the test data\n",
        "test_char_token_data = tf.data.Dataset.from_tensor_slices((test_sentences, test_chars))  \n",
        "test_char_token_labels = tf.data.Dataset.from_tensor_slices(test_labels_one_hot) \n",
        "test_char_token_dataset = tf.data.Dataset.zip((test_char_token_data, test_char_token_labels)) \n",
        "test_char_token_dataset = test_char_token_dataset.batch(32).prefetch(tf.data.AUTOTUNE)\n"
      ],
      "execution_count": 65,
      "outputs": []
    },
    {
      "cell_type": "code",
      "metadata": {
        "colab": {
          "base_uri": "https://localhost:8080/"
        },
        "id": "XyQwdHzqK77V",
        "outputId": "f8317701-52a6-4bc8-d808-8169890f2ff2"
      },
      "source": [
        "# Model Construction\n",
        "\n",
        "# 1. Setup token inputs/model\n",
        "token_inputs = layers.Input(shape=[], dtype=tf.string, name=\"token_input\")\n",
        "token_embeddings = tf_hub_embedding_layer(token_inputs)\n",
        "token_outputs = layers.Dense(128, activation=\"relu\")(token_embeddings)\n",
        "token_model = tf.keras.Model(inputs=token_inputs,\n",
        "                             outputs=token_outputs)\n",
        "\n",
        "# 2. Setup char inputs/model\n",
        "char_inputs = layers.Input(shape=(1,), dtype=tf.string, name=\"char_input\")\n",
        "char_vectors = char_vectorizer(char_inputs)\n",
        "char_embeddings = char_embed(char_vectors)\n",
        "char_bi_lstm = layers.Bidirectional(layers.LSTM(24))(char_embeddings) \n",
        "char_model = tf.keras.Model(inputs=char_inputs, outputs=char_bi_lstm)\n",
        "\n",
        "# 3. Concatenate token and char inputs (create hybrid token embeddings)\n",
        "token_char_concat = layers.Concatenate(name=\"token_char_hybrid\")([token_model.output, \n",
        "                                                                  char_model.output])\n",
        "\n",
        "# 4. Create output layers \n",
        "combined_dropout = layers.Dropout(0.5)(token_char_concat)\n",
        "combined_dense = layers.Dense(128, activation=\"relu\")(combined_dropout)\n",
        "final_dropout = layers.Dropout(0.5)(combined_dense)\n",
        "output_layer = layers.Dense(num_classes, activation=\"softmax\")(final_dropout)\n",
        "\n",
        "# 5. Construct model with char and token inputs\n",
        "model_4 = tf.keras.Model(inputs=[token_model.input, char_model.input],\n",
        "                         outputs=output_layer,\n",
        "                         name=\"model_4_token_and_char_embeddings\")\n",
        "\n",
        "# Summary\n",
        "model_4.summary()"
      ],
      "execution_count": 66,
      "outputs": [
        {
          "output_type": "stream",
          "name": "stdout",
          "text": [
            "Model: \"model_4_token_and_char_embeddings\"\n",
            "__________________________________________________________________________________________________\n",
            " Layer (type)                   Output Shape         Param #     Connected to                     \n",
            "==================================================================================================\n",
            " char_input (InputLayer)        [(None, 1)]          0           []                               \n",
            "                                                                                                  \n",
            " token_input (InputLayer)       [(None,)]            0           []                               \n",
            "                                                                                                  \n",
            " char_vectorizer (TextVectoriza  (None, 290)         0           ['char_input[0][0]']             \n",
            " tion)                                                                                            \n",
            "                                                                                                  \n",
            " universal_sentence_encoder (Ke  (None, 512)         256797824   ['token_input[0][0]']            \n",
            " rasLayer)                                                                                        \n",
            "                                                                                                  \n",
            " char_embed (Embedding)         (None, 290, 25)      700         ['char_vectorizer[1][0]']        \n",
            "                                                                                                  \n",
            " dense_4 (Dense)                (None, 128)          65664       ['universal_sentence_encoder[1][0\n",
            "                                                                 ]']                              \n",
            "                                                                                                  \n",
            " bidirectional (Bidirectional)  (None, 48)           9600        ['char_embed[1][0]']             \n",
            "                                                                                                  \n",
            " token_char_hybrid (Concatenate  (None, 176)         0           ['dense_4[0][0]',                \n",
            " )                                                                'bidirectional[0][0]']          \n",
            "                                                                                                  \n",
            " dropout (Dropout)              (None, 176)          0           ['token_char_hybrid[0][0]']      \n",
            "                                                                                                  \n",
            " dense_5 (Dense)                (None, 128)          22656       ['dropout[0][0]']                \n",
            "                                                                                                  \n",
            " dropout_1 (Dropout)            (None, 128)          0           ['dense_5[0][0]']                \n",
            "                                                                                                  \n",
            " dense_6 (Dense)                (None, 5)            645         ['dropout_1[0][0]']              \n",
            "                                                                                                  \n",
            "==================================================================================================\n",
            "Total params: 256,897,089\n",
            "Trainable params: 99,265\n",
            "Non-trainable params: 256,797,824\n",
            "__________________________________________________________________________________________________\n"
          ]
        }
      ]
    },
    {
      "cell_type": "code",
      "metadata": {
        "colab": {
          "base_uri": "https://localhost:8080/",
          "height": 976
        },
        "id": "YGhSJN1fLX54",
        "outputId": "35483433-75b6-4683-f089-8dff23518df4"
      },
      "source": [
        "# Plot hybrid token and character model\n",
        "from tensorflow.keras.utils import plot_model\n",
        "plot_model(model_4, show_shapes=True)"
      ],
      "execution_count": 67,
      "outputs": [
        {
          "output_type": "execute_result",
          "data": {
            "image/png": "[encoded data removed]",
            "text/plain": [
              "<IPython.core.display.Image object>"
            ]
          },
          "metadata": {},
          "execution_count": 67
        }
      ]
    },
    {
      "cell_type": "code",
      "metadata": {
        "id": "mWA5_8NTLcte"
      },
      "source": [
        "# Compile token char model\n",
        "model_4.compile(loss=\"categorical_crossentropy\",\n",
        "                optimizer=tf.keras.optimizers.Adam(), \n",
        "                metrics=[\"accuracy\"])"
      ],
      "execution_count": 68,
      "outputs": []
    },
    {
      "cell_type": "code",
      "metadata": {
        "colab": {
          "base_uri": "https://localhost:8080/"
        },
        "id": "R1DIP7-8Le12",
        "outputId": "f5161c1b-681c-4f79-abbc-72eb31fe2274"
      },
      "source": [
        "# Fit the model\n",
        "history_model_4 = model_4.fit(train_char_token_dataset,\n",
        "                              epochs=10,\n",
        "                              steps_per_epoch=int(0.1*len(train_char_token_dataset)),\n",
        "                              validation_data=valid_char_token_dataset,\n",
        "                              validation_steps=int(0.1*len(valid_char_token_dataset)))"
      ],
      "execution_count": 69,
      "outputs": [
        {
          "output_type": "stream",
          "name": "stdout",
          "text": [
            "Epoch 1/10\n",
            "562/562 [==============================] - 71s 117ms/step - loss: 0.9791 - accuracy: 0.6069 - val_loss: 0.7833 - val_accuracy: 0.6948\n",
            "Epoch 2/10\n",
            "562/562 [==============================] - 64s 115ms/step - loss: 0.8036 - accuracy: 0.6891 - val_loss: 0.7208 - val_accuracy: 0.7287\n",
            "Epoch 3/10\n",
            "562/562 [==============================] - 64s 115ms/step - loss: 0.7770 - accuracy: 0.7027 - val_loss: 0.6917 - val_accuracy: 0.7350\n",
            "Epoch 4/10\n",
            "562/562 [==============================] - 64s 114ms/step - loss: 0.7432 - accuracy: 0.7195 - val_loss: 0.6693 - val_accuracy: 0.7457\n",
            "Epoch 5/10\n",
            "562/562 [==============================] - 64s 115ms/step - loss: 0.7450 - accuracy: 0.7166 - val_loss: 0.6583 - val_accuracy: 0.7563\n",
            "Epoch 6/10\n",
            "562/562 [==============================] - 64s 115ms/step - loss: 0.7437 - accuracy: 0.7169 - val_loss: 0.6507 - val_accuracy: 0.7576\n",
            "Epoch 7/10\n",
            "562/562 [==============================] - 64s 114ms/step - loss: 0.7116 - accuracy: 0.7313 - val_loss: 0.6363 - val_accuracy: 0.7613\n",
            "Epoch 8/10\n",
            "562/562 [==============================] - 64s 115ms/step - loss: 0.7039 - accuracy: 0.7360 - val_loss: 0.6279 - val_accuracy: 0.7600\n",
            "Epoch 9/10\n",
            "562/562 [==============================] - 65s 115ms/step - loss: 0.7082 - accuracy: 0.7312 - val_loss: 0.6285 - val_accuracy: 0.7673\n",
            "Epoch 10/10\n",
            "562/562 [==============================] - 65s 115ms/step - loss: 0.7055 - accuracy: 0.7368 - val_loss: 0.6212 - val_accuracy: 0.7670\n"
          ]
        }
      ]
    },
    {
      "cell_type": "code",
      "metadata": {
        "colab": {
          "base_uri": "https://localhost:8080/"
        },
        "id": "ow0zXI4YMrUt",
        "outputId": "2d6587e4-d528-4ada-9b8a-fb608f2e5d80"
      },
      "source": [
        "# Evaluate on the whole test dataset\n",
        "model_4.evaluate(test_char_token_dataset)"
      ],
      "execution_count": 70,
      "outputs": [
        {
          "output_type": "stream",
          "name": "stdout",
          "text": [
            "942/942 [==============================] - 48s 51ms/step - loss: 0.6439 - accuracy: 0.7551\n"
          ]
        },
        {
          "output_type": "execute_result",
          "data": {
            "text/plain": [
              "[0.643907904624939, 0.755068838596344]"
            ]
          },
          "metadata": {},
          "execution_count": 70
        }
      ]
    },
    {
      "cell_type": "code",
      "metadata": {
        "colab": {
          "base_uri": "https://localhost:8080/"
        },
        "id": "e7NCDSchMwrn",
        "outputId": "293a6fe4-3d33-4036-ee66-5674dc896f4b"
      },
      "source": [
        "# Make predictions\n",
        "model_4_preds_probs = model_4.predict(test_char_token_dataset)\n",
        "model_4_preds_probs\n",
        "\n",
        "# Convert prediction probabilities to class labels\n",
        "model_4_preds = tf.argmax(model_4_preds_probs, axis=1)\n",
        "model_4_preds\n",
        "\n",
        "# Results for token-char-hybrid model\n",
        "model_4_results = calculate_results(y_true=test_labels_encoded,\n",
        "                                    y_pred=model_4_preds)\n",
        "model_4_results"
      ],
      "execution_count": 71,
      "outputs": [
        {
          "output_type": "execute_result",
          "data": {
            "text/plain": [
              "{'accuracy': 75.5068856811017,\n",
              " 'f1-score': 0.7509276290932916,\n",
              " 'precision': 0.7528350030491194,\n",
              " 'recall': 0.7550688568110171}"
            ]
          },
          "metadata": {},
          "execution_count": 71
        }
      ]
    },
    {
      "cell_type": "markdown",
      "metadata": {
        "id": "qAeNQLLFNGPN"
      },
      "source": [
        "## Model 6: Transfer learning with pretrained token embeddings, character embeddings and positional embeddings"
      ]
    },
    {
      "cell_type": "markdown",
      "metadata": {
        "id": "VBmDRC2sOjwx"
      },
      "source": [
        "### Creating positional embeddings"
      ]
    },
    {
      "cell_type": "code",
      "metadata": {
        "colab": {
          "base_uri": "https://localhost:8080/"
        },
        "id": "cwwLzj9jO30s",
        "outputId": "facab4ad-cb62-4831-c5fb-dc1ddbe8fbb4"
      },
      "source": [
        "# Number of different line numbers present\n",
        "train_df['line_number'].value_counts()"
      ],
      "execution_count": 72,
      "outputs": [
        {
          "output_type": "execute_result",
          "data": {
            "text/plain": [
              "0     15000\n",
              "1     15000\n",
              "2     15000\n",
              "3     15000\n",
              "4     14992\n",
              "5     14949\n",
              "6     14758\n",
              "7     14279\n",
              "8     13346\n",
              "9     11981\n",
              "10    10041\n",
              "11     7892\n",
              "12     5853\n",
              "13     4152\n",
              "14     2835\n",
              "15     1861\n",
              "16     1188\n",
              "17      751\n",
              "18      462\n",
              "19      286\n",
              "20      162\n",
              "21      101\n",
              "22       66\n",
              "23       33\n",
              "24       22\n",
              "25       14\n",
              "26        7\n",
              "27        4\n",
              "28        3\n",
              "29        1\n",
              "30        1\n",
              "Name: line_number, dtype: int64"
            ]
          },
          "metadata": {},
          "execution_count": 72
        }
      ]
    },
    {
      "cell_type": "code",
      "metadata": {
        "colab": {
          "base_uri": "https://localhost:8080/",
          "height": 265
        },
        "id": "dMvZJSeUPhXB",
        "outputId": "4d11d968-9d73-4d54-baa4-9ce073ed6cf4"
      },
      "source": [
        "# Distribution of \"line_number\" column\n",
        "train_df.line_number.plot.hist();"
      ],
      "execution_count": 73,
      "outputs": [
        {
          "output_type": "display_data",
          "data": {
            "image/png": "[encoded data removed]",
            "text/plain": [
              "<Figure size 432x288 with 1 Axes>"
            ]
          },
          "metadata": {
            "needs_background": "light"
          }
        }
      ]
    },
    {
      "cell_type": "code",
      "metadata": {
        "colab": {
          "base_uri": "https://localhost:8080/"
        },
        "id": "0Mn4Ll1vPjR3",
        "outputId": "5410634b-5df6-4ee8-b871-3c580e3b62ea"
      },
      "source": [
        "# One-hot-encoding tensors of the \"line_number\" column\n",
        "train_line_numbers_one_hot = tf.one_hot(train_df[\"line_number\"].to_numpy(), depth=15)\n",
        "val_line_numbers_one_hot = tf.one_hot(val_df[\"line_number\"].to_numpy(), depth=15)\n",
        "test_line_numbers_one_hot = tf.one_hot(test_df[\"line_number\"].to_numpy(), depth=15)\n",
        "\n",
        "train_line_numbers_one_hot[:10], train_line_numbers_one_hot.shape"
      ],
      "execution_count": 74,
      "outputs": [
        {
          "output_type": "execute_result",
          "data": {
            "text/plain": [
              "(<tf.Tensor: shape=(10, 15), dtype=float32, numpy=\n",
              " array([[1., 0., 0., 0., 0., 0., 0., 0., 0., 0., 0., 0., 0., 0., 0.],\n",
              "        [0., 1., 0., 0., 0., 0., 0., 0., 0., 0., 0., 0., 0., 0., 0.],\n",
              "        [0., 0., 1., 0., 0., 0., 0., 0., 0., 0., 0., 0., 0., 0., 0.],\n",
              "        [0., 0., 0., 1., 0., 0., 0., 0., 0., 0., 0., 0., 0., 0., 0.],\n",
              "        [0., 0., 0., 0., 1., 0., 0., 0., 0., 0., 0., 0., 0., 0., 0.],\n",
              "        [0., 0., 0., 0., 0., 1., 0., 0., 0., 0., 0., 0., 0., 0., 0.],\n",
              "        [0., 0., 0., 0., 0., 0., 1., 0., 0., 0., 0., 0., 0., 0., 0.],\n",
              "        [0., 0., 0., 0., 0., 0., 0., 1., 0., 0., 0., 0., 0., 0., 0.],\n",
              "        [0., 0., 0., 0., 0., 0., 0., 0., 1., 0., 0., 0., 0., 0., 0.],\n",
              "        [0., 0., 0., 0., 0., 0., 0., 0., 0., 1., 0., 0., 0., 0., 0.]],\n",
              "       dtype=float32)>, TensorShape([180040, 15]))"
            ]
          },
          "metadata": {},
          "execution_count": 74
        }
      ]
    },
    {
      "cell_type": "code",
      "metadata": {
        "colab": {
          "base_uri": "https://localhost:8080/"
        },
        "id": "dVm2MOS9Pui-",
        "outputId": "11b96725-69e9-4454-977c-eae1cd2127a2"
      },
      "source": [
        "# Different number of line present\n",
        "train_df[\"total_lines\"].value_counts()"
      ],
      "execution_count": 75,
      "outputs": [
        {
          "output_type": "execute_result",
          "data": {
            "text/plain": [
              "11    24468\n",
              "10    23639\n",
              "12    22113\n",
              "9     19400\n",
              "13    18438\n",
              "14    14610\n",
              "8     12285\n",
              "15    10768\n",
              "7      7464\n",
              "16     7429\n",
              "17     5202\n",
              "6      3353\n",
              "18     3344\n",
              "19     2480\n",
              "20     1281\n",
              "5      1146\n",
              "21      770\n",
              "22      759\n",
              "23      264\n",
              "4       215\n",
              "24      200\n",
              "25      182\n",
              "26       81\n",
              "28       58\n",
              "3        32\n",
              "30       31\n",
              "27       28\n",
              "Name: total_lines, dtype: int64"
            ]
          },
          "metadata": {},
          "execution_count": 75
        }
      ]
    },
    {
      "cell_type": "code",
      "metadata": {
        "colab": {
          "base_uri": "https://localhost:8080/",
          "height": 267
        },
        "id": "1l5v6uwFPzDj",
        "outputId": "f3098994-1908-4e79-8530-b5fe01841076"
      },
      "source": [
        "# Distribution of total lines\n",
        "train_df.total_lines.plot.hist();"
      ],
      "execution_count": 76,
      "outputs": [
        {
          "output_type": "display_data",
          "data": {
            "image/png": "[encoded data removed]",
            "text/plain": [
              "<Figure size 432x288 with 1 Axes>"
            ]
          },
          "metadata": {
            "needs_background": "light"
          }
        }
      ]
    },
    {
      "cell_type": "code",
      "metadata": {
        "colab": {
          "base_uri": "https://localhost:8080/"
        },
        "id": "H0IomU7iP2SO",
        "outputId": "2387318e-f982-43f6-d192-69f4649e60f7"
      },
      "source": [
        "# Coverage of a \"total_lines\" value of 20\n",
        "np.percentile(train_df.total_lines, 98)"
      ],
      "execution_count": 77,
      "outputs": [
        {
          "output_type": "execute_result",
          "data": {
            "text/plain": [
              "20.0"
            ]
          },
          "metadata": {},
          "execution_count": 77
        }
      ]
    },
    {
      "cell_type": "code",
      "metadata": {
        "colab": {
          "base_uri": "https://localhost:8080/"
        },
        "id": "u7ZSpBwzP64r",
        "outputId": "d08d1d1e-b932-46a1-833b-1cbfcfd84b5c"
      },
      "source": [
        "# One-hot-encoding tensors of \"total_lines\" feature\n",
        "train_total_lines_one_hot = tf.one_hot(train_df[\"total_lines\"].to_numpy(), depth=20)\n",
        "val_total_lines_one_hot = tf.one_hot(val_df[\"total_lines\"].to_numpy(), depth=20)\n",
        "test_total_lines_one_hot = tf.one_hot(test_df[\"total_lines\"].to_numpy(), depth=20)\n",
        "\n",
        "train_total_lines_one_hot.shape, train_total_lines_one_hot[:10]"
      ],
      "execution_count": 78,
      "outputs": [
        {
          "output_type": "execute_result",
          "data": {
            "text/plain": [
              "(TensorShape([180040, 20]), <tf.Tensor: shape=(10, 20), dtype=float32, numpy=\n",
              " array([[0., 0., 0., 0., 0., 0., 0., 0., 0., 0., 0., 1., 0., 0., 0., 0.,\n",
              "         0., 0., 0., 0.],\n",
              "        [0., 0., 0., 0., 0., 0., 0., 0., 0., 0., 0., 1., 0., 0., 0., 0.,\n",
              "         0., 0., 0., 0.],\n",
              "        [0., 0., 0., 0., 0., 0., 0., 0., 0., 0., 0., 1., 0., 0., 0., 0.,\n",
              "         0., 0., 0., 0.],\n",
              "        [0., 0., 0., 0., 0., 0., 0., 0., 0., 0., 0., 1., 0., 0., 0., 0.,\n",
              "         0., 0., 0., 0.],\n",
              "        [0., 0., 0., 0., 0., 0., 0., 0., 0., 0., 0., 1., 0., 0., 0., 0.,\n",
              "         0., 0., 0., 0.],\n",
              "        [0., 0., 0., 0., 0., 0., 0., 0., 0., 0., 0., 1., 0., 0., 0., 0.,\n",
              "         0., 0., 0., 0.],\n",
              "        [0., 0., 0., 0., 0., 0., 0., 0., 0., 0., 0., 1., 0., 0., 0., 0.,\n",
              "         0., 0., 0., 0.],\n",
              "        [0., 0., 0., 0., 0., 0., 0., 0., 0., 0., 0., 1., 0., 0., 0., 0.,\n",
              "         0., 0., 0., 0.],\n",
              "        [0., 0., 0., 0., 0., 0., 0., 0., 0., 0., 0., 1., 0., 0., 0., 0.,\n",
              "         0., 0., 0., 0.],\n",
              "        [0., 0., 0., 0., 0., 0., 0., 0., 0., 0., 0., 1., 0., 0., 0., 0.,\n",
              "         0., 0., 0., 0.]], dtype=float32)>)"
            ]
          },
          "metadata": {},
          "execution_count": 78
        }
      ]
    },
    {
      "cell_type": "markdown",
      "metadata": {
        "id": "89WA5GgdQgkI"
      },
      "source": [
        "### Creating datasets"
      ]
    },
    {
      "cell_type": "code",
      "metadata": {
        "id": "4msoFUuvQi2W"
      },
      "source": [
        "# Create training, validation and test datasets (with all four kinds of input data)\n",
        "train_char_token_pos_data = tf.data.Dataset.from_tensor_slices((train_line_numbers_one_hot,\n",
        "                                                                train_total_lines_one_hot,\n",
        "                                                                train_sentences,\n",
        "                                                                train_chars))\n",
        "train_char_token_pos_labels = tf.data.Dataset.from_tensor_slices(train_labels_one_hot)\n",
        "train_char_token_pos_dataset = tf.data.Dataset.zip((train_char_token_pos_data, train_char_token_pos_labels))\n",
        "train_char_token_pos_dataset = train_char_token_pos_dataset.batch(32).prefetch(tf.data.AUTOTUNE)\n",
        "\n",
        "# For the validation dataset\n",
        "val_char_token_pos_data = tf.data.Dataset.from_tensor_slices((val_line_numbers_one_hot,\n",
        "                                                              val_total_lines_one_hot,\n",
        "                                                              validation_sentences,\n",
        "                                                              val_chars))\n",
        "val_char_token_pos_labels = tf.data.Dataset.from_tensor_slices(validation_labels_one_hot)\n",
        "val_char_token_pos_dataset = tf.data.Dataset.zip((val_char_token_pos_data, val_char_token_pos_labels))\n",
        "val_char_token_pos_dataset = val_char_token_pos_dataset.batch(32).prefetch(tf.data.AUTOTUNE)\n",
        "\n",
        "\n",
        "# For the test dataset\n",
        "test_char_token_pos_data = tf.data.Dataset.from_tensor_slices((test_line_numbers_one_hot,\n",
        "                                                               test_total_lines_one_hot,\n",
        "                                                               test_sentences,\n",
        "                                                               test_chars))\n",
        "test_char_token_pos_labels = tf.data.Dataset.from_tensor_slices(test_labels_one_hot)\n",
        "test_char_token_pos_dataset = tf.data.Dataset.zip((test_char_token_pos_data, test_char_token_pos_labels))\n",
        "test_char_token_pos_dataset = test_char_token_pos_dataset.batch(32).prefetch(tf.data.AUTOTUNE)\n",
        "#test_char_token_pos_dataset"
      ],
      "execution_count": 79,
      "outputs": []
    },
    {
      "cell_type": "markdown",
      "metadata": {
        "id": "PPVDanZAQCUo"
      },
      "source": [
        "### Building a tribrid embedding model"
      ]
    },
    {
      "cell_type": "code",
      "metadata": {
        "colab": {
          "base_uri": "https://localhost:8080/"
        },
        "id": "vr8nnEUjQHQn",
        "outputId": "56ce255c-b79a-48a1-8f93-10c6087840ed"
      },
      "source": [
        "# 1. Token inputs\n",
        "token_inputs = layers.Input(shape=[], dtype=\"string\", name=\"token_inputs\")\n",
        "token_embeddings = tf_hub_embedding_layer(token_inputs)\n",
        "token_outputs = layers.Dense(128, activation=\"relu\") (token_embeddings)\n",
        "token_model = tf.keras.Model(inputs=token_inputs,\n",
        "                             outputs=token_outputs)\n",
        "\n",
        "# 2. Char inputs\n",
        "char_inputs = layers.Input(shape=(1, ), dtype=\"string\", name=\"char_inputs\")\n",
        "char_vectors = char_vectorizer(char_inputs)\n",
        "char_embeddings = char_embed(char_vectors)\n",
        "char_bi_lstm = layers.Bidirectional(layers.LSTM(24))(char_embeddings)\n",
        "char_model = tf.keras.Model(inputs=char_inputs,\n",
        "                            outputs=char_bi_lstm)\n",
        "\n",
        "# 3. Line numbers model\n",
        "line_numbers_input = layers.Input(shape=(15, ), dtype=tf.float32, name=\"line_numbers\") \n",
        "line_numbers_output = layers.Dense(32, activation=\"relu\")(line_numbers_input)\n",
        "line_numbers_model = tf.keras.Model(inputs=line_numbers_input,\n",
        "                                    outputs=line_numbers_output)\n",
        "\n",
        "# 4. Total lines model\n",
        "total_lines_input = layers.Input(shape=(20, ), dtype=tf.float32, name=\"total_lines\")\n",
        "total_lines_output = layers.Dense(32, activation=\"relu\")(total_lines_input)\n",
        "total_lines_model = tf.keras.Model(inputs=total_lines_input,\n",
        "                                   outputs=total_lines_output)\n",
        "\n",
        "# 5. Combine token and char embeddings into a hybrid embedding\n",
        "combined_embeddings = layers.Concatenate(name=\"char_token_hybrid_embedding\")([token_model.output, char_model.output])\n",
        "\n",
        "z = layers.Dense(256, activation=\"relu\")(combined_embeddings)\n",
        "z = layers.Dropout(0.5)(z)\n",
        "\n",
        "# 6. Combine positional embedding with combined token and char embeddings\n",
        "tribrid_embeddings = layers.Concatenate(name=\"char_token_positional_embedding\")([line_numbers_model.output,\n",
        "                                                                                 total_lines_model.output,\n",
        "                                                                                 z])\n",
        "\n",
        "\n",
        "# 7. Create output layer\n",
        "output_layer = layers.Dense(5, activation=\"softmax\", name=\"output_layer\")(tribrid_embeddings)\n",
        "\n",
        "# 8. Put together model with all kinds of inputs\n",
        "model_5 = tf.keras.Model(inputs=[line_numbers_model.input,\n",
        "                                 total_lines_model.input, \n",
        "                                 token_model.input,\n",
        "                                 char_model.input],\n",
        "                         outputs=output_layer,\n",
        "                         name=\"model_5_tribrid_embedding_model\")\n",
        "\n",
        "# Get a summary of tribrid model\n",
        "model_5.summary()"
      ],
      "execution_count": 80,
      "outputs": [
        {
          "output_type": "stream",
          "name": "stdout",
          "text": [
            "Model: \"model_5_tribrid_embedding_model\"\n",
            "__________________________________________________________________________________________________\n",
            " Layer (type)                   Output Shape         Param #     Connected to                     \n",
            "==================================================================================================\n",
            " char_inputs (InputLayer)       [(None, 1)]          0           []                               \n",
            "                                                                                                  \n",
            " token_inputs (InputLayer)      [(None,)]            0           []                               \n",
            "                                                                                                  \n",
            " char_vectorizer (TextVectoriza  (None, 290)         0           ['char_inputs[0][0]']            \n",
            " tion)                                                                                            \n",
            "                                                                                                  \n",
            " universal_sentence_encoder (Ke  (None, 512)         256797824   ['token_inputs[0][0]']           \n",
            " rasLayer)                                                                                        \n",
            "                                                                                                  \n",
            " char_embed (Embedding)         (None, 290, 25)      700         ['char_vectorizer[2][0]']        \n",
            "                                                                                                  \n",
            " dense_7 (Dense)                (None, 128)          65664       ['universal_sentence_encoder[2][0\n",
            "                                                                 ]']                              \n",
            "                                                                                                  \n",
            " bidirectional_1 (Bidirectional  (None, 48)          9600        ['char_embed[2][0]']             \n",
            " )                                                                                                \n",
            "                                                                                                  \n",
            " char_token_hybrid_embedding (C  (None, 176)         0           ['dense_7[0][0]',                \n",
            " oncatenate)                                                      'bidirectional_1[0][0]']        \n",
            "                                                                                                  \n",
            " line_numbers (InputLayer)      [(None, 15)]         0           []                               \n",
            "                                                                                                  \n",
            " total_lines (InputLayer)       [(None, 20)]         0           []                               \n",
            "                                                                                                  \n",
            " dense_10 (Dense)               (None, 256)          45312       ['char_token_hybrid_embedding[0][\n",
            "                                                                 0]']                             \n",
            "                                                                                                  \n",
            " dense_8 (Dense)                (None, 32)           512         ['line_numbers[0][0]']           \n",
            "                                                                                                  \n",
            " dense_9 (Dense)                (None, 32)           672         ['total_lines[0][0]']            \n",
            "                                                                                                  \n",
            " dropout_2 (Dropout)            (None, 256)          0           ['dense_10[0][0]']               \n",
            "                                                                                                  \n",
            " char_token_positional_embeddin  (None, 320)         0           ['dense_8[0][0]',                \n",
            " g (Concatenate)                                                  'dense_9[0][0]',                \n",
            "                                                                  'dropout_2[0][0]']              \n",
            "                                                                                                  \n",
            " output_layer (Dense)           (None, 5)            1605        ['char_token_positional_embedding\n",
            "                                                                 [0][0]']                         \n",
            "                                                                                                  \n",
            "==================================================================================================\n",
            "Total params: 256,921,889\n",
            "Trainable params: 124,065\n",
            "Non-trainable params: 256,797,824\n",
            "__________________________________________________________________________________________________\n"
          ]
        }
      ]
    },
    {
      "cell_type": "code",
      "metadata": {
        "colab": {
          "base_uri": "https://localhost:8080/",
          "height": 701
        },
        "id": "i0NXn33OQMul",
        "outputId": "b7e02edf-1a5d-462e-c739-efcb166aa9c4"
      },
      "source": [
        "plot_model(model_5, show_shapes=True)"
      ],
      "execution_count": 81,
      "outputs": [
        {
          "output_type": "execute_result",
          "data": {
            "image/png": "[encoded data removed]",
            "text/plain": [
              "<IPython.core.display.Image object>"
            ]
          },
          "metadata": {},
          "execution_count": 81
        }
      ]
    },
    {
      "cell_type": "code",
      "metadata": {
        "id": "3QXRc6q2QXCX"
      },
      "source": [
        "# Compile token, char and positional embedding model\n",
        "model_5.compile(loss=tf.keras.losses.CategoricalCrossentropy(label_smoothing=0.2), \n",
        "                optimizer=tf.keras.optimizers.Adam(),\n",
        "                metrics=[\"accuracy\"])"
      ],
      "execution_count": 82,
      "outputs": []
    },
    {
      "cell_type": "code",
      "metadata": {
        "id": "NQhGyq1md_o3",
        "colab": {
          "base_uri": "https://localhost:8080/"
        },
        "outputId": "929ae05c-f126-4925-a910-d2df8d81a5d5"
      },
      "source": [
        "# Fit our tribrid embedding model\n",
        "history_model_5 = model_5.fit(train_char_token_pos_dataset,\n",
        "                              steps_per_epoch=int(0.1*len(train_char_token_pos_dataset)),\n",
        "                              epochs=10,\n",
        "                              validation_data=val_char_token_pos_dataset,\n",
        "                              validation_steps=int(0.1*len(val_char_token_pos_dataset)))"
      ],
      "execution_count": 83,
      "outputs": [
        {
          "output_type": "stream",
          "name": "stdout",
          "text": [
            "Epoch 1/10\n",
            "562/562 [==============================] - 70s 117ms/step - loss: 1.0952 - accuracy: 0.7262 - val_loss: 0.9816 - val_accuracy: 0.8059\n",
            "Epoch 2/10\n",
            "562/562 [==============================] - 65s 115ms/step - loss: 0.9656 - accuracy: 0.8156 - val_loss: 0.9502 - val_accuracy: 0.8295\n",
            "Epoch 3/10\n",
            "562/562 [==============================] - 65s 115ms/step - loss: 0.9491 - accuracy: 0.8250 - val_loss: 0.9364 - val_accuracy: 0.8321\n",
            "Epoch 4/10\n",
            "562/562 [==============================] - 65s 115ms/step - loss: 0.9388 - accuracy: 0.8365 - val_loss: 0.9293 - val_accuracy: 0.8338\n",
            "Epoch 5/10\n",
            "562/562 [==============================] - 65s 115ms/step - loss: 0.9360 - accuracy: 0.8377 - val_loss: 0.9249 - val_accuracy: 0.8434\n",
            "Epoch 6/10\n",
            "562/562 [==============================] - 65s 115ms/step - loss: 0.9397 - accuracy: 0.8317 - val_loss: 0.9211 - val_accuracy: 0.8431\n",
            "Epoch 7/10\n",
            "562/562 [==============================] - 65s 115ms/step - loss: 0.9275 - accuracy: 0.8411 - val_loss: 0.9235 - val_accuracy: 0.8341\n",
            "Epoch 8/10\n",
            "562/562 [==============================] - 65s 115ms/step - loss: 0.9239 - accuracy: 0.8422 - val_loss: 0.9074 - val_accuracy: 0.8587\n",
            "Epoch 9/10\n",
            "562/562 [==============================] - 65s 115ms/step - loss: 0.9247 - accuracy: 0.8421 - val_loss: 0.9200 - val_accuracy: 0.8447\n",
            "Epoch 10/10\n",
            "562/562 [==============================] - 65s 115ms/step - loss: 0.9222 - accuracy: 0.8458 - val_loss: 0.9090 - val_accuracy: 0.8471\n"
          ]
        }
      ]
    },
    {
      "cell_type": "code",
      "metadata": {
        "colab": {
          "base_uri": "https://localhost:8080/"
        },
        "id": "Od_AyorcRbbX",
        "outputId": "7d455398-8681-486b-a544-1e6147d90746"
      },
      "source": [
        "# Make predictions with the char token pos model\n",
        "model_5_pred_probs = model_5.predict(test_char_token_pos_dataset, verbose=1)\n",
        "model_5_pred_probs\n",
        "\n",
        "# Convert pred probs to pred labels\n",
        "model_5_preds = tf.argmax(model_5_pred_probs, axis=1)\n",
        "model_5_preds\n",
        "\n",
        "# Calculate results of char token pos model\n",
        "model_5_results = calculate_results(y_true=test_labels_encoded,\n",
        "                                    y_pred=model_5_preds)\n",
        "model_5_results"
      ],
      "execution_count": 84,
      "outputs": [
        {
          "output_type": "stream",
          "name": "stdout",
          "text": [
            "942/942 [==============================] - 47s 49ms/step\n"
          ]
        },
        {
          "output_type": "execute_result",
          "data": {
            "text/plain": [
              "{'accuracy': 84.49643271942924,\n",
              " 'f1-score': 0.8420796064487105,\n",
              " 'precision': 0.8453930388447831,\n",
              " 'recall': 0.8449643271942924}"
            ]
          },
          "metadata": {},
          "execution_count": 84
        }
      ]
    },
    {
      "cell_type": "markdown",
      "metadata": {
        "id": "isqX1PYdRofF"
      },
      "source": [
        "## Compare all the model results!"
      ]
    },
    {
      "cell_type": "code",
      "metadata": {
        "colab": {
          "base_uri": "https://localhost:8080/",
          "height": 237
        },
        "id": "wEnUPR9SRthU",
        "outputId": "a0583ab3-55fd-4707-c48e-6adec3a7646e"
      },
      "source": [
        "# Combine model results into a dataframe\n",
        "all_models = pd.DataFrame({\"model_0\": baseline_results,\n",
        "                           \"model_1\": model_1_results,\n",
        "                           \"model_2\": model_2_results,\n",
        "                           \"model_3\": model_3_results,\n",
        "                           \"model_4\": model_4_results,\n",
        "                           \"model_5\": model_5_results})\n",
        "all_models = all_models.T\n",
        "\n",
        "# Reduce the accuracy to same scale as other metrics\n",
        "all_models[\"accuracy\"] = all_models[\"accuracy\"]/100\n",
        "\n",
        "all_models"
      ],
      "execution_count": 85,
      "outputs": [
        {
          "output_type": "execute_result",
          "data": {
            "text/html": [
              "<div>\n",
              "<style scoped>\n",
              "    .dataframe tbody tr th:only-of-type {\n",
              "        vertical-align: middle;\n",
              "    }\n",
              "\n",
              "    .dataframe tbody tr th {\n",
              "        vertical-align: top;\n",
              "    }\n",
              "\n",
              "    .dataframe thead th {\n",
              "        text-align: right;\n",
              "    }\n",
              "</style>\n",
              "<table border=\"1\" class=\"dataframe\">\n",
              "  <thead>\n",
              "    <tr style=\"text-align: right;\">\n",
              "      <th></th>\n",
              "      <th>accuracy</th>\n",
              "      <th>precision</th>\n",
              "      <th>recall</th>\n",
              "      <th>f1-score</th>\n",
              "    </tr>\n",
              "  </thead>\n",
              "  <tbody>\n",
              "    <tr>\n",
              "      <th>model_0</th>\n",
              "      <td>0.716675</td>\n",
              "      <td>0.712432</td>\n",
              "      <td>0.716675</td>\n",
              "      <td>0.692510</td>\n",
              "    </tr>\n",
              "    <tr>\n",
              "      <th>model_1</th>\n",
              "      <td>0.806637</td>\n",
              "      <td>0.802027</td>\n",
              "      <td>0.806637</td>\n",
              "      <td>0.803125</td>\n",
              "    </tr>\n",
              "    <tr>\n",
              "      <th>model_2</th>\n",
              "      <td>0.708379</td>\n",
              "      <td>0.701231</td>\n",
              "      <td>0.708379</td>\n",
              "      <td>0.702444</td>\n",
              "    </tr>\n",
              "    <tr>\n",
              "      <th>model_3</th>\n",
              "      <td>0.743819</td>\n",
              "      <td>0.738261</td>\n",
              "      <td>0.743819</td>\n",
              "      <td>0.738849</td>\n",
              "    </tr>\n",
              "    <tr>\n",
              "      <th>model_4</th>\n",
              "      <td>0.755069</td>\n",
              "      <td>0.752835</td>\n",
              "      <td>0.755069</td>\n",
              "      <td>0.750928</td>\n",
              "    </tr>\n",
              "    <tr>\n",
              "      <th>model_5</th>\n",
              "      <td>0.844964</td>\n",
              "      <td>0.845393</td>\n",
              "      <td>0.844964</td>\n",
              "      <td>0.842080</td>\n",
              "    </tr>\n",
              "  </tbody>\n",
              "</table>\n",
              "</div>"
            ],
            "text/plain": [
              "         accuracy  precision    recall  f1-score\n",
              "model_0  0.716675   0.712432  0.716675  0.692510\n",
              "model_1  0.806637   0.802027  0.806637  0.803125\n",
              "model_2  0.708379   0.701231  0.708379  0.702444\n",
              "model_3  0.743819   0.738261  0.743819  0.738849\n",
              "model_4  0.755069   0.752835  0.755069  0.750928\n",
              "model_5  0.844964   0.845393  0.844964  0.842080"
            ]
          },
          "metadata": {},
          "execution_count": 85
        }
      ]
    },
    {
      "cell_type": "code",
      "metadata": {
        "colab": {
          "base_uri": "https://localhost:8080/",
          "height": 461
        },
        "id": "mF36PLYrR8WD",
        "outputId": "9319e207-d67e-4853-abb9-dc7e8b34408b"
      },
      "source": [
        "# Plot and compare all model results\n",
        "all_models.plot(kind=\"bar\", figsize=(10, 7)).legend(bbox_to_anchor=(1.0, 1.0));"
      ],
      "execution_count": 86,
      "outputs": [
        {
          "output_type": "display_data",
          "data": {
            "image/png": "[encoded data removed]",
            "text/plain": [
              "<Figure size 720x504 with 1 Axes>"
            ]
          },
          "metadata": {
            "needs_background": "light"
          }
        }
      ]
    },
    {
      "cell_type": "code",
      "metadata": {
        "colab": {
          "base_uri": "https://localhost:8080/",
          "height": 461
        },
        "id": "qKuqRM9-SA1n",
        "outputId": "7afd178a-9849-4761-b72e-a3b6f46f2005"
      },
      "source": [
        "# Sort model results by f1-score\n",
        "all_models.sort_values(\"f1-score\", ascending=True)[\"f1-score\"].plot(kind=\"bar\", figsize=(10, 7));"
      ],
      "execution_count": 87,
      "outputs": [
        {
          "output_type": "display_data",
          "data": {
            "image/png": "[encoded data removed]",
            "text/plain": [
              "<Figure size 720x504 with 1 Axes>"
            ]
          },
          "metadata": {
            "needs_background": "light"
          }
        }
      ]
    },
    {
      "cell_type": "markdown",
      "metadata": {
        "id": "iiImmki1SJcb"
      },
      "source": [
        "## Saving the best model "
      ]
    },
    {
      "cell_type": "code",
      "metadata": {
        "colab": {
          "base_uri": "https://localhost:8080/"
        },
        "id": "r1nFHA2VSLKF",
        "outputId": "8da3379c-50ce-4e49-d21c-3a64040685a3"
      },
      "source": [
        "# Save the best performing model to SavedModel format (default)\n",
        "model_5.save(\"best_model\")"
      ],
      "execution_count": 88,
      "outputs": [
        {
          "output_type": "stream",
          "name": "stderr",
          "text": [
            "WARNING:absl:Found untraced functions such as lstm_cell_4_layer_call_fn, lstm_cell_4_layer_call_and_return_conditional_losses, lstm_cell_5_layer_call_fn, lstm_cell_5_layer_call_and_return_conditional_losses, lstm_cell_4_layer_call_fn while saving (showing 5 of 10). These functions will not be directly callable after loading.\n"
          ]
        },
        {
          "output_type": "stream",
          "name": "stdout",
          "text": [
            "INFO:tensorflow:Assets written to: best_model/assets\n"
          ]
        },
        {
          "output_type": "stream",
          "name": "stderr",
          "text": [
            "INFO:tensorflow:Assets written to: best_model/assets\n",
            "WARNING:absl:<keras.layers.recurrent.LSTMCell object at 0x7fbab016c590> has the same name 'LSTMCell' as a built-in Keras object. Consider renaming <class 'keras.layers.recurrent.LSTMCell'> to avoid naming conflicts when loading with `tf.keras.models.load_model`. If renaming is not possible, pass the object in the `custom_objects` parameter of the load function.\n",
            "WARNING:absl:<keras.layers.recurrent.LSTMCell object at 0x7fbab00f6050> has the same name 'LSTMCell' as a built-in Keras object. Consider renaming <class 'keras.layers.recurrent.LSTMCell'> to avoid naming conflicts when loading with `tf.keras.models.load_model`. If renaming is not possible, pass the object in the `custom_objects` parameter of the load function.\n"
          ]
        }
      ]
    },
    {
      "cell_type": "markdown",
      "metadata": {
        "id": "ZZdieny_nFGr"
      },
      "source": [
        "## Visualising the results (a sample of the test dataset)"
      ]
    },
    {
      "cell_type": "code",
      "metadata": {
        "colab": {
          "base_uri": "https://localhost:8080/",
          "height": 457
        },
        "id": "_EVpuyk-nHzc",
        "outputId": "c42769c6-0ff8-431f-d53e-470539c096c8"
      },
      "source": [
        "class_names_lookup =  { i : class_names[i] for i in range(len(class_names))}\n",
        "# class_names_lookup\n",
        "\n",
        "targets = []\n",
        "for i in model_5_preds.numpy().tolist():\n",
        "  if i in class_names_lookup:\n",
        "    targets.append(class_names_lookup[i])\n",
        "test_df[\"predicted_target\"] = targets\n",
        "test_df[9:22]  # sample"
      ],
      "execution_count": 89,
      "outputs": [
        {
          "output_type": "execute_result",
          "data": {
            "text/html": [
              "<div>\n",
              "<style scoped>\n",
              "    .dataframe tbody tr th:only-of-type {\n",
              "        vertical-align: middle;\n",
              "    }\n",
              "\n",
              "    .dataframe tbody tr th {\n",
              "        vertical-align: top;\n",
              "    }\n",
              "\n",
              "    .dataframe thead th {\n",
              "        text-align: right;\n",
              "    }\n",
              "</style>\n",
              "<table border=\"1\" class=\"dataframe\">\n",
              "  <thead>\n",
              "    <tr style=\"text-align: right;\">\n",
              "      <th></th>\n",
              "      <th>target</th>\n",
              "      <th>text</th>\n",
              "      <th>line_number</th>\n",
              "      <th>total_lines</th>\n",
              "      <th>predicted_target</th>\n",
              "    </tr>\n",
              "  </thead>\n",
              "  <tbody>\n",
              "    <tr>\n",
              "      <th>9</th>\n",
              "      <td>BACKGROUND</td>\n",
              "      <td>minimally invasive endovascular aneurysm repai...</td>\n",
              "      <td>0</td>\n",
              "      <td>12</td>\n",
              "      <td>BACKGROUND</td>\n",
              "    </tr>\n",
              "    <tr>\n",
              "      <th>10</th>\n",
              "      <td>BACKGROUND</td>\n",
              "      <td>the aim of this study was to analyse the cost-...</td>\n",
              "      <td>1</td>\n",
              "      <td>12</td>\n",
              "      <td>OBJECTIVE</td>\n",
              "    </tr>\n",
              "    <tr>\n",
              "      <th>11</th>\n",
              "      <td>METHODS</td>\n",
              "      <td>resource use was determined from the amsterdam...</td>\n",
              "      <td>2</td>\n",
              "      <td>12</td>\n",
              "      <td>METHODS</td>\n",
              "    </tr>\n",
              "    <tr>\n",
              "      <th>12</th>\n",
              "      <td>METHODS</td>\n",
              "      <td>the analysis was performed from a provider per...</td>\n",
              "      <td>3</td>\n",
              "      <td>12</td>\n",
              "      <td>METHODS</td>\n",
              "    </tr>\n",
              "    <tr>\n",
              "      <th>13</th>\n",
              "      <td>METHODS</td>\n",
              "      <td>all costs were calculated as if all patients h...</td>\n",
              "      <td>4</td>\n",
              "      <td>12</td>\n",
              "      <td>METHODS</td>\n",
              "    </tr>\n",
              "    <tr>\n",
              "      <th>14</th>\n",
              "      <td>RESULTS</td>\n",
              "      <td>a total of @ patients were randomized .</td>\n",
              "      <td>5</td>\n",
              "      <td>12</td>\n",
              "      <td>RESULTS</td>\n",
              "    </tr>\n",
              "    <tr>\n",
              "      <th>15</th>\n",
              "      <td>RESULTS</td>\n",
              "      <td>the @-day mortality rate was @ per cent after ...</td>\n",
              "      <td>6</td>\n",
              "      <td>12</td>\n",
              "      <td>RESULTS</td>\n",
              "    </tr>\n",
              "    <tr>\n",
              "      <th>16</th>\n",
              "      <td>RESULTS</td>\n",
              "      <td>at @months , the total mortality rate for evar...</td>\n",
              "      <td>7</td>\n",
              "      <td>12</td>\n",
              "      <td>RESULTS</td>\n",
              "    </tr>\n",
              "    <tr>\n",
              "      <th>17</th>\n",
              "      <td>RESULTS</td>\n",
              "      <td>the mean cost difference between evar and or w...</td>\n",
              "      <td>8</td>\n",
              "      <td>12</td>\n",
              "      <td>RESULTS</td>\n",
              "    </tr>\n",
              "    <tr>\n",
              "      <th>18</th>\n",
              "      <td>RESULTS</td>\n",
              "      <td>the incremental cost-effectiveness ratio per p...</td>\n",
              "      <td>9</td>\n",
              "      <td>12</td>\n",
              "      <td>RESULTS</td>\n",
              "    </tr>\n",
              "    <tr>\n",
              "      <th>19</th>\n",
              "      <td>RESULTS</td>\n",
              "      <td>there was no significant difference in quality...</td>\n",
              "      <td>10</td>\n",
              "      <td>12</td>\n",
              "      <td>RESULTS</td>\n",
              "    </tr>\n",
              "    <tr>\n",
              "      <th>20</th>\n",
              "      <td>RESULTS</td>\n",
              "      <td>nor was evar superior regarding cost-utility .</td>\n",
              "      <td>11</td>\n",
              "      <td>12</td>\n",
              "      <td>CONCLUSIONS</td>\n",
              "    </tr>\n",
              "    <tr>\n",
              "      <th>21</th>\n",
              "      <td>CONCLUSIONS</td>\n",
              "      <td>evar may be more effective for raaa , but its ...</td>\n",
              "      <td>12</td>\n",
              "      <td>12</td>\n",
              "      <td>CONCLUSIONS</td>\n",
              "    </tr>\n",
              "  </tbody>\n",
              "</table>\n",
              "</div>"
            ],
            "text/plain": [
              "         target  ... predicted_target\n",
              "9    BACKGROUND  ...       BACKGROUND\n",
              "10   BACKGROUND  ...        OBJECTIVE\n",
              "11      METHODS  ...          METHODS\n",
              "12      METHODS  ...          METHODS\n",
              "13      METHODS  ...          METHODS\n",
              "14      RESULTS  ...          RESULTS\n",
              "15      RESULTS  ...          RESULTS\n",
              "16      RESULTS  ...          RESULTS\n",
              "17      RESULTS  ...          RESULTS\n",
              "18      RESULTS  ...          RESULTS\n",
              "19      RESULTS  ...          RESULTS\n",
              "20      RESULTS  ...      CONCLUSIONS\n",
              "21  CONCLUSIONS  ...      CONCLUSIONS\n",
              "\n",
              "[13 rows x 5 columns]"
            ]
          },
          "metadata": {},
          "execution_count": 89
        }
      ]
    },
    {
      "cell_type": "code",
      "metadata": {
        "colab": {
          "base_uri": "https://localhost:8080/"
        },
        "id": "9ywsAp-Gng09",
        "outputId": "4cc4a7ce-5340-4b82-883b-053325fba914"
      },
      "source": [
        "final_string = \"\"\n",
        "dictionary = {}\n",
        "original_list = []\n",
        "\n",
        "for ind in test_df.index:\n",
        "  if test_df['line_number'][ind] != test_df['total_lines'][ind]:\n",
        "    if test_df['predicted_target'][ind] not in dictionary:\n",
        "      dictionary[test_df['predicted_target'][ind]] = test_df['text'][ind]\n",
        "    else:\n",
        "      final_string = (test_df['text'][ind])\n",
        "      dictionary[test_df['predicted_target'][ind]] += final_string\n",
        "  else:\n",
        "    if test_df['predicted_target'][ind] not in dictionary:\n",
        "      dictionary[test_df['predicted_target'][ind]] = test_df['text'][ind]\n",
        "    else:\n",
        "      final_string = (test_df['text'][ind])\n",
        "      dictionary[test_df['predicted_target'][ind]] += final_string\n",
        "      original_list.append(dictionary)\n",
        "      dictionary = {}\n",
        "original_list[1]"
      ],
      "execution_count": 90,
      "outputs": [
        {
          "output_type": "execute_result",
          "data": {
            "text/plain": [
              "{'BACKGROUND': 'minimally invasive endovascular aneurysm repair ( evar ) could be a surgical technique that improves outcome of patients with ruptured abdominal aortic aneurysm ( raaa ) .',\n",
              " 'CONCLUSIONS': 'nor was evar superior regarding cost-utility .evar may be more effective for raaa , but its increased costs mean that it is unaffordable based on current standards of societal willingness-to-pay for health gains .',\n",
              " 'METHODS': 'resource use was determined from the amsterdam acute aneurysm ( ajax ) trial , a multicentre randomized trial comparing evar with or in patients with raaa .the analysis was performed from a provider perspective .all costs were calculated as if all patients had been treated in the same hospital ( onze lieve vrouwe gasthuis , teaching hospital ) .',\n",
              " 'OBJECTIVE': 'the aim of this study was to analyse the cost-effectiveness and cost-utility of evar compared with standard open repair ( or ) in the treatment of raaa , with costs per @-day and @-month survivor as outcome parameters .',\n",
              " 'RESULTS': 'a total of @ patients were randomized .the @-day mortality rate was @ per cent after evar and @ per cent for or : absolute risk reduction ( arr ) @ ( @ per cent confidence interval ( c.i. ) -@ to @ ) per cent .at @months , the total mortality rate for evar was @ per cent , compared with @ per cent among those assigned to or : arr @ ( -@ to @ ) per cent .the mean cost difference between evar and or was @ ( @ per cent c.i. -@ to @,@ ) at @days and @,@ ( -@ to @,@ ) at @months .the incremental cost-effectiveness ratio per prevented death was @,@ at @days and @,@ at @months .there was no significant difference in quality of life between evar and or .'}"
            ]
          },
          "metadata": {},
          "execution_count": 90
        }
      ]
    },
    {
      "cell_type": "code",
      "metadata": {
        "id": "8cDoewq1pXvz"
      },
      "source": [
        "class color:\n",
        "   PURPLE = '\\033[95m'\n",
        "   CYAN = '\\033[96m'\n",
        "   DARKCYAN = '\\033[36m'\n",
        "   BLUE = '\\033[94m'\n",
        "   GREEN = '\\033[92m'\n",
        "   YELLOW = '\\033[93m'\n",
        "   RED = '\\033[91m'\n",
        "   BOLD = '\\033[1m'\n",
        "   UNDERLINE = '\\033[4m'\n",
        "   END = '\\033[0m'"
      ],
      "execution_count": 91,
      "outputs": []
    },
    {
      "cell_type": "code",
      "metadata": {
        "colab": {
          "base_uri": "https://localhost:8080/"
        },
        "id": "9znU-ktup8o8",
        "outputId": "5d340bcc-dc01-4499-be3f-ed2802f1c644"
      },
      "source": [
        "string = \"\"\n",
        "for i in original_list[1]:\n",
        "  var = color.BOLD + i + ':' + color.END\n",
        "  print(var)\n",
        "  print(original_list[1][i])\n",
        "  print(\"\\n\")\n",
        "  string += (var + \" \" + original_list[1][i] + \"\\n\\n\")"
      ],
      "execution_count": 92,
      "outputs": [
        {
          "output_type": "stream",
          "name": "stdout",
          "text": [
            "\u001b[1mBACKGROUND:\u001b[0m\n",
            "minimally invasive endovascular aneurysm repair ( evar ) could be a surgical technique that improves outcome of patients with ruptured abdominal aortic aneurysm ( raaa ) .\n",
            "\n",
            "\n",
            "\u001b[1mOBJECTIVE:\u001b[0m\n",
            "the aim of this study was to analyse the cost-effectiveness and cost-utility of evar compared with standard open repair ( or ) in the treatment of raaa , with costs per @-day and @-month survivor as outcome parameters .\n",
            "\n",
            "\n",
            "\u001b[1mMETHODS:\u001b[0m\n",
            "resource use was determined from the amsterdam acute aneurysm ( ajax ) trial , a multicentre randomized trial comparing evar with or in patients with raaa .the analysis was performed from a provider perspective .all costs were calculated as if all patients had been treated in the same hospital ( onze lieve vrouwe gasthuis , teaching hospital ) .\n",
            "\n",
            "\n",
            "\u001b[1mRESULTS:\u001b[0m\n",
            "a total of @ patients were randomized .the @-day mortality rate was @ per cent after evar and @ per cent for or : absolute risk reduction ( arr ) @ ( @ per cent confidence interval ( c.i. ) -@ to @ ) per cent .at @months , the total mortality rate for evar was @ per cent , compared with @ per cent among those assigned to or : arr @ ( -@ to @ ) per cent .the mean cost difference between evar and or was @ ( @ per cent c.i. -@ to @,@ ) at @days and @,@ ( -@ to @,@ ) at @months .the incremental cost-effectiveness ratio per prevented death was @,@ at @days and @,@ at @months .there was no significant difference in quality of life between evar and or .\n",
            "\n",
            "\n",
            "\u001b[1mCONCLUSIONS:\u001b[0m\n",
            "nor was evar superior regarding cost-utility .evar may be more effective for raaa , but its increased costs mean that it is unaffordable based on current standards of societal willingness-to-pay for health gains .\n",
            "\n",
            "\n"
          ]
        }
      ]
    },
    {
      "cell_type": "markdown",
      "metadata": {
        "id": "NCUUBax72DgU"
      },
      "source": [
        "# Predicting on unstructured PubMed RCT abstracts"
      ]
    },
    {
      "cell_type": "code",
      "metadata": {
        "colab": {
          "base_uri": "https://localhost:8080/"
        },
        "id": "dU-icSWQvaQ7",
        "outputId": "60119d07-a19d-4f3a-9c9f-9ce849a1b387"
      },
      "source": [
        "!zip -r /content/best_model.zip /content/best_model"
      ],
      "execution_count": 93,
      "outputs": [
        {
          "output_type": "stream",
          "name": "stdout",
          "text": [
            "  adding: content/best_model/ (stored 0%)\n",
            "  adding: content/best_model/keras_metadata.pb (deflated 91%)\n",
            "  adding: content/best_model/variables/ (stored 0%)\n",
            "  adding: content/best_model/variables/variables.index (deflated 77%)\n",
            "  adding: content/best_model/variables/variables.data-00000-of-00001 (deflated 7%)\n",
            "  adding: content/best_model/saved_model.pb (deflated 72%)\n",
            "  adding: content/best_model/assets/ (stored 0%)\n"
          ]
        }
      ]
    },
    {
      "cell_type": "code",
      "metadata": {
        "colab": {
          "base_uri": "https://localhost:8080/"
        },
        "id": "27x4OECF7ngs",
        "outputId": "765e48a8-ec1a-42d3-bad3-5eac3574eef7"
      },
      "source": [
        "import pandas as pd\n",
        "import nltk\n",
        "nltk.download('punkt')\n",
        "from nltk.tokenize import sent_tokenize"
      ],
      "execution_count": 94,
      "outputs": [
        {
          "output_type": "stream",
          "name": "stdout",
          "text": [
            "[nltk_data] Downloading package punkt to /root/nltk_data...\n",
            "[nltk_data]   Unzipping tokenizers/punkt.zip.\n"
          ]
        }
      ]
    },
    {
      "cell_type": "code",
      "metadata": {
        "id": "2Y9E0sJY2FaE"
      },
      "source": [
        "def preprocess(data):\n",
        "  \"\"\"\n",
        "  This function takes the content read from the file and performs nescessary preprocessing\n",
        "  Arguments: data (content read from the file)\n",
        "  Returns: preprocessed dataframe\n",
        "  \"\"\"\n",
        "  # data\n",
        "  text_list = sent_tokenize(data)\n",
        "  data1 = data\n",
        "  data1_list = sent_tokenize(data)  \n",
        "\n",
        "  # Numbers are replaced with '@' \n",
        "  K = '@'\n",
        "  for i in range(len(data1_list)):\n",
        "    ele = data1_list[i]\n",
        "    for e in ele:\n",
        "      if e.isdigit():\n",
        "        data1_list[i] = data1_list[i].replace(e, K)\n",
        "\n",
        "  total_lines = [len(text_list) - 1 for i in range(len(text_list))]\n",
        "  line_numbers = [i for i in range(len(text_list))]\n",
        "\n",
        "  df = pd.DataFrame(list(zip(text_list, data1_list, line_numbers, total_lines)), columns =['unmodified_text', 'text', 'line_number', 'total_lines'])\n",
        "  \n",
        "  # Giving dummy label encoding for each of these sentences - to use tf.data.Datasets\n",
        "  df[\"target\"] = \"\"\n",
        "  for i in df.index:\n",
        "    j = i % 5\n",
        "    df[\"target\"][i] = class_names[j]\n",
        "\n",
        "  return df, data1_list\n",
        "\n",
        "# Make function to split sentences into characters\n",
        "def split_chars(text):\n",
        "  return \" \".join(list(text))\n",
        "\n",
        "def predictions(dataset, class_names, model):\n",
        "  \"\"\"\n",
        "  Takes the test dataset and returns the predicted labels\n",
        "  Arguments: dataset (tf.data.datasets)\n",
        "             class_names (different class labels)\n",
        "             model \n",
        "  Returns: a list of predicted labels\n",
        "  \"\"\"\n",
        "  # Make predictions with the char token pos model  \n",
        "  pred_probs = model.predict(dataset, verbose=0)\n",
        "  pred_probs\n",
        "\n",
        "  # Convert pred probs to pred labels\n",
        "  preds = tf.argmax(pred_probs, axis=1)\n",
        "  preds\n",
        "\n",
        "  class_names_lookup =  { i : class_names[i] for i in range(len(class_names))}\n",
        "  #class_names_lookup\n",
        "\n",
        "  targets = []\n",
        "  for i in preds.numpy().tolist():\n",
        "    if i in class_names_lookup:\n",
        "      targets.append(class_names_lookup[i])\n",
        "  return targets\n",
        "\n",
        "def final_summary(df):\n",
        "  \"\"\"\n",
        "  This function takes in the dataframe and displays the predicted output in a formatted manner.\n",
        "  It also stores the structured abstract into a file.\n",
        "  \"\"\"\n",
        "  final_string = \"\"\n",
        "  dictionary = {}\n",
        "  original_list = []\n",
        "\n",
        "  for ind in df.index:\n",
        "    if df['line_number'][ind] != df['total_lines'][ind]:\n",
        "      if df['predicted_target'][ind] not in dictionary:\n",
        "        dictionary[df['predicted_target'][ind]] = df['unmodified_text'][ind]\n",
        "      else:\n",
        "        final_string = (df['unmodified_text'][ind])\n",
        "        dictionary[df['predicted_target'][ind]] += final_string\n",
        "    else:\n",
        "      if df['predicted_target'][ind] not in dictionary:\n",
        "        dictionary[df['predicted_target'][ind]] = df['unmodified_text'][ind]\n",
        "      else:\n",
        "        final_string = (df['unmodified_text'][ind])\n",
        "        dictionary[df['target'][ind]] += final_string\n",
        "        original_list.append(dictionary)\n",
        "        dictionary = {}\n",
        "  #original_list[0]\n",
        "\n",
        "  string = \"\"\n",
        "  for i in original_list[0]:\n",
        "    var = color.BOLD + i + ':' + color.END\n",
        "    print(var)\n",
        "    print(original_list[0][i])\n",
        "    print(\"\\n\")\n",
        "    string += (var + \" \" + original_list[0][i] + \"\\n\\n\")\n",
        "\n",
        "  # Saving contents to a file\n",
        "  text_file = open(\"structured_abstract.txt\", \"w\")\n",
        "  text_file.write(string)\n",
        "  text_file.close()"
      ],
      "execution_count": 95,
      "outputs": []
    },
    {
      "cell_type": "code",
      "metadata": {
        "id": "Me9M7gNs2V_7"
      },
      "source": [
        "def main():\n",
        "  # Read in the abstract text file\n",
        "  text_file = open(\"/content/Pubmed_RCT.txt\", \"r\")\n",
        "  data = text_file.read()  \n",
        "\n",
        "\n",
        "  # Creating the dataset\n",
        "  df, text_list = preprocess(data)\n",
        "\n",
        "  chars = [split_chars(sentence) for sentence in df[\"text\"].tolist()]\n",
        "  labels_one_hot = one_hot_encoder.fit_transform(df[\"target\"].to_numpy().reshape(-1, 1))\n",
        "  total_lines_one_hot = tf.one_hot(df[\"total_lines\"].to_numpy(), depth=20)\n",
        "  line_numbers_one_hot = tf.one_hot(df[\"line_number\"].to_numpy(), depth=15)\n",
        "  char_token_pos_data = tf.data.Dataset.from_tensor_slices((line_numbers_one_hot,\n",
        "                                                                total_lines_one_hot,\n",
        "                                                                text_list,\n",
        "                                                                chars))\n",
        "  char_token_pos_labels = tf.data.Dataset.from_tensor_slices(labels_one_hot)\n",
        "  char_token_pos_dataset = tf.data.Dataset.zip((char_token_pos_data, char_token_pos_labels))\n",
        "  char_token_pos_dataset = char_token_pos_dataset.batch(32).prefetch(tf.data.AUTOTUNE)\n",
        "\n",
        "  targets = predictions(dataset=char_token_pos_dataset,\n",
        "                        class_names=class_names,\n",
        "                        model=model_5)\n",
        "  df[\"predicted_target\"] = targets\n",
        "  final_summary(df)"
      ],
      "execution_count": 96,
      "outputs": []
    },
    {
      "cell_type": "code",
      "metadata": {
        "colab": {
          "base_uri": "https://localhost:8080/"
        },
        "id": "8y46D-2tqw0U",
        "outputId": "1ea40eec-82a9-4493-8813-8644865e1926"
      },
      "source": [
        "main()"
      ],
      "execution_count": 97,
      "outputs": [
        {
          "output_type": "stream",
          "name": "stdout",
          "text": [
            "\u001b[1mBACKGROUND:\u001b[0m\n",
            "Hepatitis C virus (HCV) and alcoholic liver disease (ALD), either alone or in combination, count for more than two thirds of all liver diseases in the Western world.There is no safe level of drinking in HCV-infected patients and the most effective goal for these patients is total abstinence.Baclofen, a GABA(B) receptor agonist, represents a promising pharmacotherapy for alcohol dependence (AD).The goal of this post-hoc analysis was to explore baclofen's effect in a subgroup of alcohol-dependent HCV-infected cirrhotic patients.\n",
            "\n",
            "\n",
            "\u001b[1mMETHODS:\u001b[0m\n",
            "Previously, we performed a randomized clinical trial (RCT), which demonstrated the safety and efficacy of baclofen in patients affected by AD and cirrhosis.and 12 received placebo for 12-weeks.Baclofen may represent a clinically relevant alcohol pharmacotherapy for these patients.\n",
            "\n",
            "\n",
            "\u001b[1mRESULTS:\u001b[0m\n",
            "Any patient with HCV infection was selected for this analysis.Among the 84 subjects randomized in the main trial, 24 alcohol-dependent cirrhotic patients had a HCV infection; 12 received baclofen 10mg t.i.d.With respect to the placebo group (3/12, 25.0%), a significantly higher number of patients who achieved and maintained total alcohol abstinence was found in the baclofen group (10/12, 83.3%; p=0.0123).Furthermore, in the baclofen group, compared to placebo, there was a significantly higher increase in albumin values from baseline (p=0.0132) and a trend toward a significant reduction in INR levels from baseline (p=0.0716).\n",
            "\n",
            "\n",
            "\u001b[1mCONCLUSIONS:\u001b[0m\n",
            "In conclusion, baclofen was safe and significantly more effective than placebo in promoting alcohol abstinence, and improving some Liver Function Tests (LFTs) (i.e.albumin, INR) in alcohol-dependent HCV-infected cirrhotic patients.\n",
            "\n",
            "\n"
          ]
        }
      ]
    },
    {
      "cell_type": "markdown",
      "metadata": {
        "id": "BdXaN51Ixndj"
      },
      "source": [
        "**Note:** Above contents are stored in a file and can be downloaded"
      ]
    },
    {
      "cell_type": "markdown",
      "metadata": {
        "id": "5JCOTqXNxsge"
      },
      "source": [
        "-----------------------------------------------------------------"
      ]
    }
  ]
}